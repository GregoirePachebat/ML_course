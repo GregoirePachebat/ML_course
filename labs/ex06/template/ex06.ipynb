{
 "cells": [
  {
   "cell_type": "code",
   "execution_count": 1,
   "metadata": {},
   "outputs": [],
   "source": [
    "# Useful starting lines\n",
    "%matplotlib inline\n",
    "\n",
    "import random\n",
    "from datetime import datetime\n",
    "\n",
    "import numpy as np\n",
    "import matplotlib.pyplot as plt\n",
    "from test_utils import test\n",
    "import time\n",
    "\n",
    "\n",
    "%load_ext autoreload\n",
    "%autoreload 2"
   ]
  },
  {
   "cell_type": "markdown",
   "metadata": {},
   "source": [
    "# Support Vector Machines\n",
    "## Classification Using SVM\n",
    "Load dataset. We will use a toy dataset from sklearn."
   ]
  },
  {
   "cell_type": "code",
   "execution_count": 2,
   "metadata": {},
   "outputs": [
    {
     "name": "stdout",
     "output_type": "stream",
     "text": [
      "(N, D) = (569, 31)\n"
     ]
    }
   ],
   "source": [
    "from sklearn import datasets\n",
    "\n",
    "# Load dataset\n",
    "sklearn_dataset = datasets.load_breast_cancer()\n",
    "Xx = sklearn_dataset.data\n",
    "y = sklearn_dataset.target * 2 - 1  # labels must be in {-1, 1} for the hinge loss\n",
    "X = np.ones((Xx.shape[0], Xx.shape[1] + 1))\n",
    "X[:, :-1] = Xx\n",
    "print(\"(N, D) =\", X.shape)"
   ]
  },
  {
   "cell_type": "markdown",
   "metadata": {},
   "source": [
    "## Prepare cost and prediction functions"
   ]
  },
  {
   "cell_type": "code",
   "execution_count": 11,
   "metadata": {},
   "outputs": [],
   "source": [
    "def calculate_primal_objective(y, X, w, lambda_):\n",
    "    \"\"\"compute the full cost (the primal objective, equation (1) in the exercise pdf),\n",
    "        that is loss plus regularizer.\n",
    "\n",
    "    Args:\n",
    "        X: the full dataset matrix, shape = (num_examples, num_features)\n",
    "        y: the corresponding +1 or -1 labels, shape = (num_examples)\n",
    "        w: shape = (num_features)\n",
    "\n",
    "    Returns:\n",
    "        scalar, non-negative\n",
    "\n",
    "    >>> y_test = np.array([1, -1])\n",
    "    >>> x_test = np.array([[1, 2, 3], [4, 5, 6]])\n",
    "    >>> w_test = np.array([0, 1, 5])\n",
    "    >>> calculate_primal_objective(y_test, x_test, w_test, 1)\n",
    "    31.0\n",
    "    \"\"\"\n",
    "    ####################################\n",
    "    ### ___ Enter your code here ___ ###\n",
    "    # Compute margins: y_i * (w^T x_i + b)\n",
    "    margins = y * (X.dot(w))  # Assuming tx.dot(w) is the linear prediction part\n",
    "    \n",
    "    # Hinge loss: max(0, 1 - margins)\n",
    "    hinge_loss = np.maximum(0, 1 - margins)\n",
    "    \n",
    "    # Regularization term: lambda * ||w||^2\n",
    "    reg_term = lambda_ * np.linalg.norm(w)**2\n",
    "    \n",
    "    # Primal objective: average hinge loss + regularization term\n",
    "    objective = np.mean(hinge_loss) + reg_term/2\n",
    "    \n",
    "    return objective\n",
    "    ####################################"
   ]
  },
  {
   "cell_type": "code",
   "execution_count": 12,
   "metadata": {},
   "outputs": [
    {
     "name": "stdout",
     "output_type": "stream",
     "text": [
      "✅ Your `calculate_primal_objective` passed 4 tests.\n"
     ]
    }
   ],
   "source": [
    "test(calculate_primal_objective)"
   ]
  },
  {
   "cell_type": "code",
   "execution_count": 13,
   "metadata": {},
   "outputs": [],
   "source": [
    "def calculate_accuracy(y, X, w):\n",
    "    \"\"\"compute the accuracy on the given dataset (X, y) using the model w.\n",
    "\n",
    "    Args:\n",
    "        X: the full dataset matrix, shape = (num_examples, num_features)\n",
    "        y: the corresponding +1 or -1 labels, shape = (num_examples)\n",
    "        w: shape = (num_features)\n",
    "\n",
    "    Returns:\n",
    "        scalar, between 0 and 1\n",
    "\n",
    "    >>> y_test = np.array([1, -1])\n",
    "    >>> x_test = np.array([[1, 2, 3], [4, 5, 6]])\n",
    "    >>> w_test = np.array([0, 1, 5])\n",
    "    >>> calculate_accuracy(y_test, x_test, w_test)\n",
    "    0.5\n",
    "    \"\"\"\n",
    "    ####################################\n",
    "    ### ___ Enter your code here ___ ###\n",
    "    predictions = np.sign(X@w)\n",
    "\n",
    "    positives = (predictions == y)\n",
    "\n",
    "    return np.sum(positives)/predictions.shape[0]\n",
    "    ####################################"
   ]
  },
  {
   "cell_type": "code",
   "execution_count": 14,
   "metadata": {},
   "outputs": [
    {
     "name": "stdout",
     "output_type": "stream",
     "text": [
      "✅ Your `calculate_accuracy` passed 4 tests.\n"
     ]
    }
   ],
   "source": [
    "test(calculate_accuracy)"
   ]
  },
  {
   "cell_type": "markdown",
   "metadata": {},
   "source": [
    "## Stochastic Gradient Descent for SVM"
   ]
  },
  {
   "cell_type": "markdown",
   "metadata": {},
   "source": [
    "Compute the (stochastic) subgradient for the n-th summand of the SVM optimization objective"
   ]
  },
  {
   "cell_type": "code",
   "execution_count": 21,
   "metadata": {},
   "outputs": [],
   "source": [
    "def calculate_stochastic_gradient(y, X, w, lambda_, n, num_examples):\n",
    "    \"\"\"Compute the stochastic gradient of loss plus regularizer.\n",
    "\n",
    "    Args:\n",
    "        X: the dataset matrix, shape = (num_examples, num_features)\n",
    "        y: the corresponding +1 or -1 labels, shape = (num_examples)\n",
    "        w: shape = (num_features)\n",
    "        lambda_: positive scalar number\n",
    "        n: the index of the (one) datapoint we have sampled\n",
    "        num_examples: N\n",
    "\n",
    "    Returns:\n",
    "        numpy array, shape = (num_features)\n",
    "     >>> y_test = np.array([1, -1])\n",
    "    >>> x_test = np.array([[1, 2, 3], [4, 5, 6]])\n",
    "    >>> w_test = np.array([0, 1, 5])\n",
    "    >>> calculate_stochastic_gradient(y_test, x_test, w_test, 1, 1, 2)\n",
    "    array([ 4,  6, 11])\n",
    "    \"\"\"\n",
    "    # Extract the nth data point\n",
    "    X_n = X[n, :]\n",
    "    y_n = y[n]\n",
    "    \n",
    "    # Calculate margin for the sampled data point\n",
    "    margin = y_n * np.dot(X_n, w)\n",
    "    \n",
    "    # Calculate the gradient of the hinge loss term\n",
    "    if margin < 1:\n",
    "        # Only contribute if margin < 1, so we calculate the gradient\n",
    "        loss_gradient = -y_n * X_n\n",
    "    else:\n",
    "        # No contribution to the gradient if margin >= 1\n",
    "        loss_gradient = np.zeros_like(w)\n",
    "    \n",
    "    # Regularization term\n",
    "    reg_gradient = lambda_ * w\n",
    "    \n",
    "    # Total gradient (loss gradient + regularization gradient)\n",
    "    stochastic_gradient = loss_gradient + reg_gradient\n",
    "    \n",
    "    return stochastic_gradient\n"
   ]
  },
  {
   "cell_type": "code",
   "execution_count": 22,
   "metadata": {},
   "outputs": [
    {
     "name": "stdout",
     "output_type": "stream",
     "text": [
      "✅ Your `calculate_stochastic_gradient` passed 4 tests.\n"
     ]
    }
   ],
   "source": [
    "test(calculate_stochastic_gradient)"
   ]
  },
  {
   "cell_type": "markdown",
   "metadata": {},
   "source": [
    "Implement stochastic gradient descent: Pick a data point uniformly at random and update w based on the gradient for the n-th summand of the objective"
   ]
  },
  {
   "cell_type": "code",
   "execution_count": 23,
   "metadata": {},
   "outputs": [
    {
     "name": "stdout",
     "output_type": "stream",
     "text": [
      "Final training accuracy = 89.1 %\n",
      "Training time: 9.2 seconds \n"
     ]
    },
    {
     "data": {
      "image/png": "[encoded data removed]",
      "text/plain": [
       "<Figure size 640x480 with 1 Axes>"
      ]
     },
     "metadata": {},
     "output_type": "display_data"
    }
   ],
   "source": [
    "def sgd_for_svm_demo(y, X):\n",
    "    xs = np.unique(np.round(np.logspace(0, 5, 201)))[:-1]\n",
    "    max_iter = int(1e5)\n",
    "    gamma = 1e-4\n",
    "    lambda_ = 5e1\n",
    "\n",
    "    num_examples, num_features = X.shape\n",
    "    w = np.zeros(num_features)\n",
    "    costs = []\n",
    "    start = time.time()\n",
    "\n",
    "    for it in range(max_iter):\n",
    "        # n = sample one data point uniformly at random data from x\n",
    "        n = random.randint(0, num_examples - 1)\n",
    "\n",
    "        grad = calculate_stochastic_gradient(y, X, w, lambda_, n, num_examples)\n",
    "        w -= gamma / (it + 1) * grad\n",
    "\n",
    "        cost = calculate_primal_objective(y, X, w, lambda_)\n",
    "\n",
    "        if it in xs:\n",
    "            costs += [cost]\n",
    "\n",
    "    end = time.time()\n",
    "\n",
    "    print(\n",
    "        \"Final training accuracy = {l} %\".format(\n",
    "            l=np.round(100 * calculate_accuracy(y, X, w), 2)\n",
    "        )\n",
    "    )\n",
    "    print(\"Training time: \" + str(np.round(end - start, 1)) + \" seconds \")\n",
    "\n",
    "    plt.figure()\n",
    "    plt.title(\"SGD on primal objective\")\n",
    "    plt.loglog(xs, costs)\n",
    "    plt.xlabel(\"Number of iterations\")\n",
    "    plt.ylabel(\"Primal objective\")\n",
    "    plt.show()\n",
    "\n",
    "\n",
    "sgd_for_svm_demo(y, X)"
   ]
  },
  {
   "cell_type": "markdown",
   "metadata": {},
   "source": [
    "## Coordinate Descent (Ascent) for SVM"
   ]
  },
  {
   "cell_type": "markdown",
   "metadata": {},
   "source": [
    "Compute the closed-form update for the n-th variable alpha, in the dual optimization problem, given alpha and the current corresponding w"
   ]
  },
  {
   "cell_type": "code",
   "execution_count": null,
   "metadata": {},
   "outputs": [],
   "source": [
    "def calculate_coordinate_update(y, X, lambda_, alpha, w, n):\n",
    "    \"\"\"compute a coordinate update (closed form) for coordinate n.\n",
    "\n",
    "    Args:\n",
    "        y: the corresponding +1 or -1 labels, shape = (num_examples)\n",
    "        X: the dataset matrix, shape = (num_examples, num_features)\n",
    "        lambda_: positive scalar number\n",
    "        alpha: vector of dual coordinates, shape = (num_examples)\n",
    "        w: vector of primal parameters, shape = (num_features)\n",
    "        n: the coordinate to be updated\n",
    "\n",
    "    Returns:\n",
    "        w: updated vector of primal parameters, shape = (num_features)\n",
    "        alpha: updated vector of dual parameters, shape = (num_examples)\n",
    "\n",
    "    >>> y_test = np.array([1, -1])\n",
    "    >>> x_test = np.array([[1., 2., 3.], [4., 5., 6.]])\n",
    "    >>> w_test = np.array([-0.3, -0.3, -0.3])\n",
    "    >>> alpha_test = np.array([0.1, 0.1])\n",
    "    >>> calculate_coordinate_update(y_test, x_test, 1, alpha_test, w_test, 0)\n",
    "    (array([-0.1,  0.1,  0.3]), array([0.5, 0.1]))\n",
    "    \"\"\"\n",
    "    # calculate the update of coordinate at index=n.\n",
    "    N = y.size\n",
    "    x_n, y_n = X[n], y[n]\n",
    "    old_alpha_n = np.copy(alpha[n])\n",
    "\n",
    "    ####################################\n",
    "    ### ___ Enter your code here ___ ###\n",
    "    ####################################"
   ]
  },
  {
   "cell_type": "code",
   "execution_count": null,
   "metadata": {},
   "outputs": [],
   "source": [
    "test(calculate_coordinate_update)"
   ]
  },
  {
   "cell_type": "code",
   "execution_count": null,
   "metadata": {},
   "outputs": [],
   "source": [
    "def calculate_dual_objective(y, X, w, alpha, lambda_):\n",
    "    \"\"\"calculate the objective for the dual problem.\n",
    "\n",
    "    Args:\n",
    "        y: the corresponding +1 or -1 labels, shape = (num_examples)\n",
    "        X: the dataset matrix, shape = (num_examples, num_features)\n",
    "        w: vector of primal parameters, shape = (num_features)\n",
    "        alpha: vector of dual coordinates, shape = (num_examples)\n",
    "        lambda_: non negative scalar number\n",
    "\n",
    "    Output:\n",
    "        scalar\n",
    "\n",
    "    >>> y_test = np.array([1, -1])\n",
    "    >>> x_test = np.array([[1., 2., 3.], [4., 5., 6.]])\n",
    "    >>> w_test = np.array([-0.3, -0.3, -0.3])\n",
    "    >>> alpha_test = np.array([0.1, 0.1])\n",
    "    >>> calculate_dual_objective(y_test, x_test, w_test, alpha_test, 1)\n",
    "    -0.035\n",
    "    \"\"\"\n",
    "    N = y.size\n",
    "\n",
    "    ####################################\n",
    "    ### ___ Enter your code here ___ ###\n",
    "    ####################################"
   ]
  },
  {
   "cell_type": "code",
   "execution_count": null,
   "metadata": {},
   "outputs": [],
   "source": [
    "test(calculate_dual_objective)"
   ]
  },
  {
   "cell_type": "code",
   "execution_count": null,
   "metadata": {},
   "outputs": [],
   "source": [
    "# Notice that the gap is going to 0\n",
    "def coordinate_descent_for_svm_demo(y, X):\n",
    "    max_iter = int(1e5)\n",
    "    xs = np.unique(np.round(np.logspace(0, 5, 201)))[:-1]\n",
    "    lambda_ = 5e1\n",
    "    p_costs, d_costs = [], []\n",
    "\n",
    "    num_examples, num_features = X.shape\n",
    "    w = np.zeros(num_features)\n",
    "    alpha = np.zeros(num_examples)\n",
    "    start = time.time()\n",
    "\n",
    "    for it in range(max_iter):\n",
    "        # n = sample one data point uniformly at random data from x\n",
    "        n = random.randint(0, num_examples - 1)\n",
    "\n",
    "        w, alpha = calculate_coordinate_update(y, X, lambda_, alpha, w, n)\n",
    "\n",
    "        if it in xs:\n",
    "            # primal objective\n",
    "            primal_value = calculate_primal_objective(y, X, w, lambda_)\n",
    "            # dual objective\n",
    "            dual_value = calculate_dual_objective(y, X, w, alpha, lambda_)\n",
    "            # store values\n",
    "            p_costs += [primal_value]\n",
    "            d_costs += [dual_value]\n",
    "\n",
    "    end = time.time()\n",
    "    plt.figure()\n",
    "    plt.title(\"Coordinate ascent on dual objective\")\n",
    "    plt.loglog(xs, p_costs, label=\"Primal cost\")\n",
    "    plt.loglog(xs, d_costs, label=\"Dual cost\")\n",
    "    plt.xlabel(\"Number of iterations\")\n",
    "    plt.legend()\n",
    "    plt.show()\n",
    "\n",
    "    print(\n",
    "        \"Final training accuracy = {l} %\".format(\n",
    "            l=np.round(100 * calculate_accuracy(y, X, w), 2)\n",
    "        )\n",
    "    )\n",
    "    print(\"Training time: \" + str(np.round(end - start, 1)) + \" seconds \")\n",
    "\n",
    "\n",
    "coordinate_descent_for_svm_demo(y, X)"
   ]
  },
  {
   "cell_type": "markdown",
   "metadata": {},
   "source": [
    "#### The gap between the primal cost and the dual cost should go to 0 !"
   ]
  }
 ],
 "metadata": {
  "kernelspec": {
   "display_name": "base",
   "language": "python",
   "name": "python3"
  },
  "language_info": {
   "codemirror_mode": {
    "name": "ipython",
    "version": 3
   },
   "file_extension": ".py",
   "mimetype": "text/x-python",
   "name": "python",
   "nbconvert_exporter": "python",
   "pygments_lexer": "ipython3",
   "version": "3.12.2"
  }
 },
 "nbformat": 4,
 "nbformat_minor": 4
}
