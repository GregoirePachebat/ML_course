{
 "cells": [
  {
   "cell_type": "code",
<<<<<<< HEAD
   "execution_count": 1,
=======
   "execution_count": null,
>>>>>>> origin
   "metadata": {},
   "outputs": [],
   "source": [
    "# Useful starting lines\n",
    "%matplotlib inline\n",
    "import numpy as np\n",
    "import matplotlib.pyplot as plt\n",
    "\n",
    "%load_ext autoreload\n",
    "%autoreload 2\n",
    "from test_utils import test"
   ]
  },
  {
   "cell_type": "markdown",
<<<<<<< HEAD
=======
   "execution_count": null,
>>>>>>> origin
   "metadata": {},
   "source": [
    "# Cross-Validation and Bias-Variance decomposition\n",
    "## Cross-Validation\n",
    "Implementing 4-fold cross-validation below:"
   ]
  },
  {
   "cell_type": "code",
<<<<<<< HEAD
   "execution_count": 2,
=======
   "execution_count": null,
>>>>>>> origin
   "metadata": {},
   "outputs": [],
   "source": [
    "from helpers import load_data\n",
    "\n",
    "# load dataset\n",
    "x, y = load_data()"
   ]
  },
  {
   "cell_type": "code",
<<<<<<< HEAD
   "execution_count": 3,
=======
   "execution_count": null,
>>>>>>> origin
   "metadata": {},
   "outputs": [],
   "source": [
    "def build_k_indices(y, k_fold, seed):\n",
    "    \"\"\"build k indices for k-fold.\n",
    "\n",
    "    Args:\n",
    "        y:      shape=(N,)\n",
    "        k_fold: K in K-fold, i.e. the fold num\n",
    "        seed:   the random seed\n",
    "\n",
    "    Returns:\n",
    "        A 2D array of shape=(k_fold, N/k_fold) that indicates the data indices for each fold\n",
    "\n",
    "    >>> build_k_indices(np.array([1., 2., 3., 4.]), 2, 1)\n",
    "    array([[3, 2],\n",
    "           [0, 1]])\n",
    "    \"\"\"\n",
    "    num_row = y.shape[0]\n",
    "    interval = int(num_row / k_fold)\n",
    "    np.random.seed(seed)\n",
    "    indices = np.random.permutation(num_row)\n",
    "    k_indices = [indices[k * interval : (k + 1) * interval] for k in range(k_fold)]\n",
<<<<<<< HEAD
    "    return np.array(k_indices)\n"
=======
    "    return np.array(k_indices)"
>>>>>>> origin
   ]
  },
  {
   "cell_type": "code",
<<<<<<< HEAD
   "execution_count": 4,
   "metadata": {},
   "outputs": [
    {
     "name": "stdout",
     "output_type": "stream",
     "text": [
      "✅ Your `build_k_indices` passes some basic tests.\n"
     ]
    }
   ],
=======
   "execution_count": null,
   "metadata": {},
   "outputs": [],
>>>>>>> origin
   "source": [
    "test(build_k_indices)"
   ]
  },
  {
   "cell_type": "markdown",
<<<<<<< HEAD
=======
   "execution_count": null,
>>>>>>> origin
   "metadata": {},
   "source": [
    "For the following cross_validation( ) function you need to implement, you can help yourselves of the build_poly( ) and ridge_regression( ) functions that you implemented in lab 3. Copy paste the code in the build_polynomial.py and ridge_regression.py files, they should pass the two following tests."
   ]
  },
  {
   "cell_type": "code",
<<<<<<< HEAD
   "execution_count": 5,
   "metadata": {},
   "outputs": [
    {
     "name": "stdout",
     "output_type": "stream",
     "text": [
      "✅ Your `build_poly` passes some basic tests.\n",
      "✅ Your `ridge_regression` passes some basic tests.\n"
     ]
    }
   ],
=======
   "execution_count": null,
   "metadata": {},
   "outputs": [],
>>>>>>> origin
   "source": [
    "from costs import compute_mse\n",
    "from ridge_regression import ridge_regression\n",
    "from build_polynomial import build_poly\n",
    "\n",
    "\n",
    "test(build_poly)\n",
    "test(ridge_regression)"
   ]
  },
  {
   "cell_type": "code",
<<<<<<< HEAD
   "execution_count": 8,
=======
   "execution_count": null,
>>>>>>> origin
   "metadata": {},
   "outputs": [],
   "source": [
    "def cross_validation(y, x, k_indices, k, lambda_, degree):\n",
    "    \"\"\"return the loss of ridge regression for a fold corresponding to k_indices\n",
    "\n",
    "    Args:\n",
    "        y:          shape=(N,)\n",
    "        x:          shape=(N,)\n",
    "        k_indices:  2D array returned by build_k_indices()\n",
    "        k:          scalar, the k-th fold (N.B.: not to confused with k_fold which is the fold nums)\n",
    "        lambda_:    scalar, cf. ridge_regression()\n",
    "        degree:     scalar, cf. build_poly()\n",
    "\n",
    "    Returns:\n",
    "        train and test root mean square errors rmse = sqrt(2 mse)\n",
    "\n",
    "    >>> cross_validation(np.array([1.,2.,3.,4.]), np.array([6.,7.,8.,9.]), np.array([[3,2], [0,1]]), 1, 2, 3)\n",
    "    (0.019866645527597114, 0.33555914361295175)\n",
    "    \"\"\"\n",
    "\n",
    "    # ***************************************************\n",
    "    # INSERT YOUR CODE HERE\n",
    "    # get k'th subgroup in test, others in train: TODO\n",
<<<<<<< HEAD
    "    x_tr = np.delete(x, k_indices[k,:], 0)\n",
    "    y_tr = np.delete(y, k_indices[k,:], 0)\n",
    "\n",
    "    x_te = x[k_indices[k, :]]\n",
    "    y_te = y[k_indices[k, :]]\n",
    "    # ***************************************************\n",
    "\n",
    "    # ***************************************************\n",
    "    # INSERT YOUR CODE HERE\n",
    "    # form data with polynomial degree: TODO\n",
    "    x_tr, x_te = build_poly(x_tr, degree), build_poly(x_te, degree)\n",
    "    # ***************************************************\n",
    "    \n",
    "    # ***************************************************\n",
    "    # INSERT YOUR CODE HERE\n",
    "    # ridge regression: TODO\n",
    "    w = ridge_regression(y_tr, x_tr, lambda_)\n",
    "    # ***************************************************\n",
    "    \n",
    "    # ***************************************************\n",
    "    # INSERT YOUR CODE HERE\n",
    "    # calculate the loss for train and test data: TODO\n",
    "    loss_tr, loss_te = np.sqrt(2*compute_mse(y_tr, x_tr, w)), np.sqrt(2*compute_mse(y_te, x_te, w))\n",
    "    # ***************************************************\n",
=======
    "    # ***************************************************\n",
    "    raise NotImplementedError\n",
    "    # ***************************************************\n",
    "    # INSERT YOUR CODE HERE\n",
    "    # form data with polynomial degree: TODO\n",
    "    # ***************************************************\n",
    "    raise NotImplementedError\n",
    "    # ***************************************************\n",
    "    # INSERT YOUR CODE HERE\n",
    "    # ridge regression: TODO\n",
    "    # ***************************************************\n",
    "    raise NotImplementedError\n",
    "    # ***************************************************\n",
    "    # INSERT YOUR CODE HERE\n",
    "    # calculate the loss for train and test data: TODO\n",
    "    # ***************************************************\n",
    "    raise NotImplementedError\n",
>>>>>>> origin
    "    return loss_tr, loss_te"
   ]
  },
  {
   "cell_type": "code",
<<<<<<< HEAD
   "execution_count": 9,
   "metadata": {},
   "outputs": [
    {
     "name": "stdout",
     "output_type": "stream",
     "text": [
      "❌ The are some issues with your implementation of `cross_validation`:\n",
      "**********************************************************************\n",
      "File \"__main__\", line 15, in cross_validation\n",
      "Failed example:\n",
      "    cross_validation(np.array([1.,2.,3.,4.]), np.array([6.,7.,8.,9.]), np.array([[3,2], [0,1]]), 1, 2, 3)\n",
      "Expected:\n",
      "    (0.019866645527597114, 0.33555914361295175)\n",
      "Got:\n",
      "    (0.019866645527596753, 0.33555914361295186)\n",
      "**********************************************************************\n"
     ]
    }
   ],
=======
   "execution_count": null,
   "metadata": {},
   "outputs": [],
>>>>>>> origin
   "source": [
    "# can lead to a numerical error if you use an older version than Python 3.9\n",
    "test(cross_validation)"
   ]
  },
  {
   "cell_type": "code",
<<<<<<< HEAD
   "execution_count": 19,
   "metadata": {},
   "outputs": [
    {
     "name": "stdout",
     "output_type": "stream",
     "text": [
      "For polynomial expansion up to degree 7, the choice of lambda which leads to the best test rmse is 0.00853 with a test rmse of 0.291\n"
     ]
    },
    {
     "data": {
      "image/png": "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",
      "text/plain": [
       "<Figure size 640x480 with 1 Axes>"
      ]
     },
     "metadata": {},
     "output_type": "display_data"
    }
   ],
=======
   "execution_count": null,
   "metadata": {},
   "outputs": [],
>>>>>>> origin
   "source": [
    "from plots import cross_validation_visualization\n",
    "\n",
    "\n",
    "def cross_validation_demo(degree, k_fold, lambdas):\n",
    "    \"\"\"cross validation over regularisation parameter lambda.\n",
    "\n",
    "    Args:\n",
    "        degree: integer, degree of the polynomial expansion\n",
    "        k_fold: integer, the number of folds\n",
    "        lambdas: shape = (p, ) where p is the number of values of lambda to test\n",
    "    Returns:\n",
    "        best_lambda : scalar, value of the best lambda\n",
    "        best_rmse : scalar, the associated root mean squared error for the best lambda\n",
    "    \"\"\"\n",
    "\n",
    "    seed = 12\n",
    "    degree = degree\n",
    "    k_fold = k_fold\n",
    "    lambdas = lambdas\n",
    "    # split data in k fold\n",
    "    k_indices = build_k_indices(y, k_fold, seed)\n",
    "    # define lists to store the loss of training data and test data\n",
    "    rmse_tr = []\n",
    "    rmse_te = []\n",
<<<<<<< HEAD
    "    best_lambda = 0\n",
    "    best_rmse = float(\"inf\")\n",
    "    # ***************************************************\n",
    "    # INSERT YOUR CODE HERE\n",
    "    # cross validation over lambdas: TODO\n",
    "    for lambda_ in lambdas:\n",
    "        rmse_tr_folds = []\n",
    "        rmse_te_folds = []\n",
    "        \n",
    "        # Perform K-fold cross-validation\n",
    "        for k in range(k_fold):\n",
    "            loss_tr, loss_te = cross_validation(y, x, k_indices, k, lambda_, degree)\n",
    "            rmse_tr_folds.append(loss_tr)\n",
    "            rmse_te_folds.append(loss_te)\n",
    "\n",
    "        # Average RMSE over all folds\n",
    "        avg_rmse_tr = np.mean(rmse_tr_folds)\n",
    "        avg_rmse_te = np.mean(rmse_te_folds)\n",
    "\n",
    "        rmse_tr.append(avg_rmse_tr)\n",
    "        rmse_te.append(avg_rmse_te)\n",
    "\n",
    "        if avg_rmse_te < best_rmse:\n",
    "            best_lambda = lambda_\n",
    "            best_rmse = avg_rmse_te\n",
    "    # ***************************************************\n",
=======
    "    # ***************************************************\n",
    "    # INSERT YOUR CODE HERE\n",
    "    # cross validation over lambdas: TODO\n",
    "    # ***************************************************\n",
    "    raise NotImplementedError\n",
>>>>>>> origin
    "\n",
    "    cross_validation_visualization(lambdas, rmse_tr, rmse_te)\n",
    "    print(\n",
    "        \"For polynomial expansion up to degree %.f, the choice of lambda which leads to the best test rmse is %.5f with a test rmse of %.3f\"\n",
    "        % (degree, best_lambda, best_rmse)\n",
    "    )\n",
    "    return best_lambda, best_rmse\n",
    "\n",
    "\n",
    "best_lambda, best_rmse = cross_validation_demo(7, 4, np.logspace(-4, 0, 30))"
   ]
  },
  {
   "cell_type": "markdown",
<<<<<<< HEAD
=======
   "execution_count": null,
>>>>>>> origin
   "metadata": {},
   "source": [
    "Your output should look like this for seed = 12, degree = 7 and k_fold = 4:\n",
    "\n",
    "![alt text](cross_validation2.png)"
   ]
  },
  {
   "cell_type": "markdown",
<<<<<<< HEAD
=======
   "execution_count": null,
>>>>>>> origin
   "metadata": {},
   "source": [
    "You can play around with the number of folds and the degree of your polynomial expansion."
   ]
  },
  {
   "cell_type": "code",
<<<<<<< HEAD
   "execution_count": 21,
   "metadata": {},
   "outputs": [
    {
     "name": "stdout",
     "output_type": "stream",
     "text": [
      "For polynomial expansion up to degree 10, the choice of lambda which leads to the best test rmse is 0.01887 with a test rmse of 0.294\n"
     ]
    },
    {
     "data": {
      "image/png": "iVBORw0KGgoAAAANSUhEUgAAAkAAAAHJCAYAAABtzYa7AAAAOXRFWHRTb2Z0d2FyZQBNYXRwbG90bGliIHZlcnNpb24zLjcuMiwgaHR0cHM6Ly9tYXRwbG90bGliLm9yZy8pXeV/AAAACXBIWXMAAA9hAAAPYQGoP6dpAAB9GUlEQVR4nO3dd3hUZdrH8e9k0unSe5DelCYQUBAQECysZUFQEOmirsjyKqyIgAVRBNQFhAUpVkRAXcWFKFVAUKSoFLFACISqECCQMnPePx4nyaRAJplkkszvc11zzZkz55y5z8MkuXmqzbIsCxERERE/EuDrAERERETymxIgERER8TtKgERERMTvKAESERERv6MESERERPyOEiARERHxO0qARERExO8oARIRERG/owRIRERE/I4SIBER4Oabb+bmm29222ez2Zg4ceJVz120aBE2m41Dhw55/LmrVq3K8jMiIiIYOHCgx9cUkasL9HUAIiIF1datW6lWrVqefsaqVauYNWtWpknQypUrKVmyZJ5+voi/UgIkItl26dIlQkNDsdlsvg4lX7Rt29ann9+8eXOffr5IUaYmMBE/tX//fvr27UvFihUJCQmhRo0aDBgwgISEBCC1WWfNmjUMGjSI8uXLEx4eTkJCAk6nk5dffpkGDRoQEhJChQoVGDBgADExMW6fsXPnTm6//XYqVKhASEgIVapU4bbbbnM7btmyZbRp04ZSpUoRHh7Otddey6BBg64Ye/Pmzbnpppsy7Hc4HFStWpW77747Zd+kSZNo06YN11xzDSVLlqRFixYsWLCA7KwDnVkT2DfffEP79u0JDQ2lSpUqjBs3jqSkpAznLl26lG7dulG5cmXCwsJo2LAhY8eO5eLFiynHDBw4kFmzZqV8luvhakrLrAksOjqaBx54IKVMGzZsyKuvvorT6Uw55tChQ9hsNqZNm8b06dOpVasWxYsXJzIykm+++eaq9y3iD1QDJOKHdu/ezY033ki5cuWYPHkydevWJTY2lk8//ZTExERCQkJSjh00aBC33XYbb7/9NhcvXiQoKIiHH36YefPm8eijj3L77bdz6NAhnnnmGdavX8/3339PuXLluHjxIl27dqVWrVrMmjWLihUrcvz4cdatW8f58+cB08TUp08f+vTpw8SJEwkNDeXw4cOsXbv2ivE/9NBDPP744xw8eJC6deum7F+zZg3Hjh3joYceStl36NAhhg8fTo0aNQCTwDz22GMcPXqUCRMmeFRue/fupUuXLkRERLBo0SLCw8OZPXs27733XoZjDx48SM+ePRk1ahTFihVj//79TJ06le3bt6fc3zPPPMPFixf56KOP2Lp1a8q5lStXzvTzT506Rbt27UhMTOS5554jIiKCzz77jDFjxvDrr78ye/Zst+NnzZpFgwYNmDlzZsrn9ezZk99//51SpUp5dO8iRY4lIn6nc+fOVunSpa2TJ09meczChQstwBowYIDb/n379lmANXLkSLf927ZtswDrX//6l2VZlvXdd99ZgPXxxx9n+RnTpk2zAOvs2bMexX/69GkrODg45bNcevfubVWsWNFKSkrK9DyHw2ElJSVZkydPtsqWLWs5nc6U9zp27Gh17NjR7XjAevbZZ1Ne9+nTxwoLC7OOHz+esi85Odlq0KCBBVi///57pp/rdDqtpKQka8OGDRZg7d69O+W9Rx55xMrqV3HNmjWtBx98MOX12LFjLcDatm2b23EPP/ywZbPZrAMHDliWZVm///67BVhNmza1kpOTU47bvn27BVjvv/9+pp8n4k/UBCbiZ+Lj49mwYQO9e/emfPnyVz3+nnvucXu9bt06gAxNM61bt6Zhw4Z89dVXANSpU4cyZcrw1FNP8eabb7J3794M177hhhsA6N27Nx9++CFHjx7N1j2ULVuWO+64g8WLF6c0/fz555988sknDBgwgMDA1MrttWvXcsstt1CqVCnsdjtBQUFMmDCBM2fOcPLkyWx9Xtp779KlCxUrVkzZZ7fb6dOnT4Zjf/vtN/r160elSpVSPrdjx44A7Nu3z6PPTXsvjRo1onXr1m77Bw4ciGVZGWrObrvtNux2e8rr6667DoDDhw/n6PNFihIlQCJ+5s8//8ThcGR7dFP65pgzZ85kuh+gSpUqKe+XKlWKDRs20KxZM/71r3/RuHFjqlSpwrPPPpvSZ6ZDhw58/PHHJCcnM2DAAKpVq0aTJk14//33rxrXoEGDOHr0KFFRUQC8//77JCQkuCVm27dvp1u3bgD85z//YfPmzXz77bc8/fTTgOnU7YkzZ85QqVKlDPvT77tw4QI33XQT27Zt4/nnn2f9+vV8++23rFixIkefm/bzsyp31/tplS1b1u21q2kzp58vUpSoD5CIn7nmmmuw2+0ZOixnJf2IL9cf1djY2AxJ1LFjxyhXrlzK66ZNm/LBBx9gWRZ79uxh0aJFTJ48mbCwMMaOHQtAr1696NWrFwkJCXzzzTdMmTKFfv36ERERQWRkZJZxde/enSpVqrBw4UK6d+/OwoULadOmDY0aNUo55oMPPiAoKIjPPvuM0NDQlP0ff/xxtu49vbJly3L8+PEM+9PvW7t2LceOHWP9+vUptT4AZ8+ezdHnpv382NjYDPuPHTsG4Fb2InJlqgES8TNhYWF07NiRZcuWcfr0aY/P79y5MwDvvPOO2/5vv/2Wffv20aVLlwzn2Gw2rr/+embMmEHp0qX5/vvvMxwTEhJCx44dmTp1KmBGkF2J3W6nf//+fPzxx2zatInvvvsuw+gxm81GYGCgWzPQpUuXePvtt7N3s+l06tSJr776ihMnTqTsczgcLF26NMPnuu4prblz52a4pie1Ml26dGHv3r0Zym/JkiXYbDY6deqUvRsREdUAifij6dOnc+ONN9KmTRvGjh1LnTp1OHHiBJ9++ilz586lRIkSWZ5bv359hg0bxhtvvEFAQAA9evRIGQVWvXp1nnjiCQA+++wzZs+ezd/+9jeuvfZaLMtixYoVnD17lq5duwIwYcIEYmJi6NKlC9WqVePs2bO89tprbv1lrmTQoEFMnTqVfv36ERYWlqEvzm233cb06dPp168fw4YN48yZM0ybNi1DYpJd48eP59NPP6Vz585MmDCB8PBwZs2a5Ta0HaBdu3aUKVOGESNG8OyzzxIUFMS7777L7t27M1yzadOmAEydOpUePXpgt9u57rrrCA4OznDsE088wZIlS7jtttuYPHkyNWvW5PPPP2f27Nk8/PDD1KtXL0f3JeKXfNwJW0R8ZO/evdbf//53q2zZslZwcLBVo0YNa+DAgdbly5cty0odBfbtt99mONfhcFhTp0616tWrZwUFBVnlypWzHnjgAevIkSMpx+zfv9/q27evVbt2bSssLMwqVaqU1bp1a2vRokUpx3z22WdWjx49rKpVq1rBwcFWhQoVrJ49e1qbNm3K9n20a9fOAqz7778/0/ffeustq379+lZISIh17bXXWlOmTLEWLFiQYdRWdkaBWZZlbd682Wrbtq0VEhJiVapUyfq///s/a968eRmut2XLFisyMtIKDw+3ypcvbw0ZMsT6/vvvLcBauHBhynEJCQnWkCFDrPLly1s2m83tOulHgVmWZR0+fNjq16+fVbZsWSsoKMiqX7++9corr1gOhyPlGNcosFdeeSVDeWR2TyL+yGZZ2ZgNTERERKQIUR8gERER8TtKgERERMTvKAESERERv6MESERERPyOEiARERHxO0qARERExO9oIsRMOJ1Ojh07RokSJTIsAyAiIiIFk2VZnD9/nipVqhAQcOU6HiVAmTh27BjVq1f3dRgiIiKSA0eOHLnqgs9KgDLhWgbg999/55prrvFxNL6XlJTEmjVr6NatG0FBQb4Ox+dUHqlUFu5UHqlUFu5UHu7yqjzi4uKoXr36FZfzcVEClAlXs1eJEiUoWbKkj6PxvaSkJMLDwylZsqR+cFF5pKWycKfySKWycKfycJfX5ZGd7ivqBC0iIiJ+RwmQiIiI+B01geWCw+EgKSnJ12HkuaSkJAIDA7l8+TIOh8PX4eSpoKAg7Ha7r8MQEZE8pgQoByzL4vjx45w9e9bXoeQLy7KoVKkSR44c8YtpAUqXLk2lSpX84l5FRPyVEqAccCU/FSpUIDw8vMj/oXQ6nVy4cIHixYtfdV6FwsyyLOLj4zl58iQAlStX9nFEIiKSV5QAecjhcKQkP2XLlvV1OPnC6XSSmJhIaGhokU6AAMLCwgA4efIkFSpUUHOYiEgRVbT/muUBV5+f8PBwH0ciecX1b+sP/btERPyVEqAcKurNXv5M/7YiIkWfEiARERHxO0qARERExO8oAZIci4iIYObMmb4OQ0RECpuYGMr98APExPgsBCVAfuTmm29m1KhRXrvet99+y7Bhw7x2PRER8QMLFhBYpw7tn3mGwDp1YMECn4ShBMjHYmJg3TqfJsFuLMsiOTk5W8eWL18+30fDORwOnE5nhv2JiYk5ul5OzxMRkRyIiYFhw7D99Xvc5nTC8OE++SOoBMgLLAsuXvT8MXs21KwJnTub59mzPb+GZWUvxoEDB7JhwwZee+01bDYbNpuNQ4cOsX79emw2G6tXr6ZVq1aEhISwadMmfv31V3r16kXFihUpWbIknTt35ssvv3S7ZvomMJvNxvz587nrrrsIDw+nbt26fPrpp1eMKzExkSeffJKqVatSrFgx2rRpw/r161PeX7RoEaVLl+azzz6jUaNGhISEcPjwYSIiInj++ecZOHAgpUqVYujQoQAsX76cxo0bExISQkREBK+++mqGmDM7T0RE8sH27ZD+P7EOB/zyS76HogTIC+LjoXhxzx+PPJL6PXA6zWtPrxEfn70YX3vtNSIjIxk6dCixsbHExsZSvXr1lPeffPJJpkyZwr59+7juuuu4cOECPXv25Msvv2THjh107tyZXr16ER0dfcXPmTRpEr1792bPnj307NmT+++/nz/++CPL4x966CE2b97MBx98wJ49e/j73//OrbfeysGDB9OUbzxTpkxh/vz5/PTTT1SoUAGAV155hSZNmrBjxw6eeeYZduzYQe/evbnvvvv44YcfmDhxIs888wyLFi1y+8z054mISD44dQr+9a+M++12qFMn38PRTNB+olSpUgQHBxMeHk6lSpUyvD958mS6du2a8rps2bJcf/31gJkJevz48XzxxRd8+umnPProo1l+zsCBA+nbty8AL774Im+88Qbbt2/n1ltvzXDsr7/+yvvvv09MTAxVqlQBYMyYMfzvf/9j4cKFvPjii4CZkHD27Nkp8bh07tyZMWPGpLy+//776dKlS0pSU69ePfbu3csrr7zCwIEDszxPRETy2JkzcMstcOAAlCqFdf48NqcTy27HNncuVKuW7yEpAfKC8HC4cMGzc44ehYYN3WsC7XbYuxeqVvXss72hVatWbq8vXrzIpEmT+Oyzzzh27BjJyclcunTpqjVA1113Xcp2sWLFKFGiRMraWul9//33WJZFvXr13PYnJCS4LTMSHBzsdt2sYt63bx+9evVy29e+fXtmzpyJw+FIWdYi/XkiIpKH/vjDJD979kDFirB+PckhIWx7913a3H8/QbVq+SQsJUBeYLNBsWKenVOvHsybZ/p+ORwm+Zk71+z3hWLpbuD//u//WL16NdOmTePaa6/F4XAwaNCgq3YaDgoKcntts9ky7bQMpmbJbrezY8eODGtuFS9ePGU7LCws09mZ08dsWVaG46xMOkmlP09ERPLIn39C166waxdUqGBG/TRoAElJnGna1Cc1Py5KgHxo8GDo3t30/apTJ++/B8HBwTgcjmwdu2nTJgYOHMhdd92F0+nk2LFjHDp0yKvxNG/eHIfDwcmTJ7nppptyfb1GjRrx9ddfu+3bsmUL9erV06KmIiL57exZ6NYNvv8eypeHtWtN00cBoQTIx6pVy78EOCIigm3btnHo0CGKFy/ONddck+WxderUYcWKFdxxxx1YlsW//vWvLGtycqpevXrcf//9DBgwgFdffZXmzZtz+vRp1q5dS9OmTenZs6dH1/vnP//JDTfcwHPPPUefPn3YunUr//73v5k9e7ZX4xYRkas4d878D/+776BcOfjqK2jc2NdRudEoMD8yZswY7HY7jRo1onz58lfszzNjxgzKlClDu3bt6NWrF507d6ZFixZej2nhwoUMGDCAf/7zn9SvX58777yTbdu2uY1Qy64WLVrw4Ycf8sEHH9CkSRMmTJjA5MmT3TpAi4hIHouLg1tvNUPer7kGvvwSmjb1dVQZqAbIj9SrV4+tW7e67YuIiMi0n0xERARr164FTF+duLg4/vnPfxIQkJozp28Sy+w6Z8+evWJMQUFBTJo0iUmTJmX6/sCBAzNNYLJqjrvnnnu45557svw8bzfjiYhIGufPQ48e8M03UKaMqflJN4K3oFANkIiIiOTehQtw222wZQuULm1qfpo183VUWVICJCIiIrlz8SLcfjts2gSlSkFUFORBtwlvUgIkIiIiORcfD3fcARs2QMmSsHo1XGW+tZgY+OGHcj5dB1MJkIiIiD/yxmrcly5Br17mOsWLw//+B23aXPGUBQugTp1AnnmmPXXqBPpqMXglQCIiIn5nwQL31bg9zUJiYkxNz623mr4+xYqZ5Ccy8qqnDRsGTqeZtNbptPlqMXiNAhMREfEr+/bB0KHgGrnrdJrXW7ZAlSpQooSpzSlRIvPtjz+GJ55IXcspOBi++ALat7/qR+/Zk/Vi8Pk9KbTPE6DZs2fzyiuvEBsbS+PGjZk5c2aWswKvX7+eTp06Zdi/b98+GjRoAMCiRYt46KGHMhxz6dIlQkNDvRu8iIhIYWBZsHEjvPUWLF2amvykff+tt3J27eRkyMZ6Xk4nvPFGxv0+WgzetwnQ0qVLGTVqFLNnz6Z9+/bMnTuXHj16sHfvXmrUqJHleQcOHKBkyZIpr8uXL+/2fsmSJTlw4IDbPiU/IiLid2JiYPFiWLgQfv016+NsNnj4YQgIMHP5nD9vhrWn3z53ziQ8aTmd2arCmTTJtJLZ7WbeOKfTht1uMXeuzSdLgvk0AZo+fTqDBw9myJAhAMycOZPVq1czZ84cpkyZkuV5FSpUoHTp0lm+b7PZqFSpUrbjSEhIICEhIeV1XFwcAElJSSQlJbkdm5SU9Nc/nNPrS0MUVK4JDl33XdQ5nU4syyIpKSnTNcRc34n03w1/pLJwp/JIpbJwl6/lkZCA7b//JWDxYmxr1mBz/Q4vUQKrd2+cDz4Ie/dif+QRbA4Hlt2OY/ZsrExaTzKIiSGwTh1saf4WWHY7yTVrwhXubdkyG5Mnm5Rj7txkOnRIYunSHfTp05KIiMArneoRT8rXZmU2fW8+SExMJDw8nGXLlnHXXXel7H/88cfZtWsXGzZsyHCOqwksIiKCy5cv06hRI8aPH+/WLLZo0SKGDBlC1apVcTgcNGvWjOeee47mzZtnGcvEiRMznYn4vffeIzw83G1fYGAglSpVonr16gQHB+fk1qWAS0xM5MiRIxw/fpzk9P/TEREpIEJPn6Z4bCwXKlfmcrlylPztN2p+9RXVNm4k+Pz5lONON25M9C23cCwyEkea1pDQ06cpFhvLxb/Oz64aUVFcP2cOAU4nzoAAdj/8MNFdu2Z5/K+/lmLcuBtJTAzkzjt/YdCgn3J2w9kQHx9Pv379OHfunFtLUWZ8lgAdO3aMqlWrsnnzZtq1a5ey/8UXX2Tx4sUZmrDANH1t3LiRli1bkpCQwNtvv82bb77J+vXr6dChAwDffPMNv/zyC02bNiUuLo7XXnuNVatWsXv3burWrZtpLJnVAFWvXp3Y2FjKli3rduzly5c5cuQIERERha5ZrXPnzlx//fXMmDHDo/Msy+L8+fOUKFECm83m9t5DDz3E2bNnWblypTdD9anLly9z6NAhqlevnum/cVJSElFRUXTt2pWgoCAfRFhwqCzcqTxSqSzcebs8bAsXYn/4YWxOJ5bNBtWqYTtyJOV9q1o1nP374xwwAGrXzvXnZRATg+3XX7Fq175i09fx49CuXSAxMTa6d3fy8ccO7Pa8+37ExcVRrly5bCVAPu8Enf4PqmVZGfa51K9fn/r166e8joyM5MiRI0ybNi0lAWrbti1t27ZNOaZ9+/a0aNGCN954g9dffz3T64aEhBASEpJhf1BQUIZ/GIfDgc1mIyAgwG1drByLiYGDB6Fu3XzpAu+K3ROuZq/MzrXZbDm65tVYloXD4SAw0P0rmpiYmKOaN0/OCwgIwGazZfrvn9bV3vcnKgt3Ko9UKgt3XimPmBjTX8f1u9my4MgRCAqCu+6CQYOw3XILdrudjI34XlKr1lU7Pl++DL17m3AbNIClSwMIDXX/W+Ht74cn1/LZPEDlypXDbrdz/Phxt/0nT56kYsWK2b5O27ZtOXjwYJbvBwQEcMMNN1zxmFyzLDMNuKeP2bPd52GYPdvza2SzAm/gwIFs2LCB1157LSVpcS0MunfvXnr27Enx4sWpWLEi/fv35/Tp0ynnfvTRR7Rr145ixYpRtmxZbrnlFi5evMjEiRNZvHgxn3zySco1169fn0URWbz88stce+21hIWFcf311/PRRx+lvL9+/XpsNhurV6+mVatWhISEsGnTJm6++WYeffRRRo8eTbly5ej6VzXrhg0baN26NSEhIVSuXJmxY8e6NVdldZ6ISKF38GDGseQAy5aZEV7du5uexj5kWWa+H9eaqJ9+albIKEh8VgMUHBxMy5YtiYqKcusDFBUVRa9evbJ9nZ07d1K5cuUs37csi127dtG0adNcxXtF8fFmboTccDrhkUfMwxMXLpgJqK7itdde4+eff6ZJkyZMnjwZMKPnYmNj6dixI0OHDmX69OlcunSJp556it69e7N27VpiY2O5//77mTRpEvfddx8XL15k06ZNWJbFmDFj2LdvH3FxcSxcuBCAa665JtPPHz9+PCtWrGDOnDnUrVuXjRs38sADD1C+fHk6duyYctyTTz7JtGnTuPbaa1M6ui9evJiHH36YzZs3Y1kWR48epWfPngwcOJAlS5awf/9+hg4dSmhoKBMnTky5VvrzRESKhL8G6rix26Fly/yPJQvTpsHbb5uwPvzQNHIUND5tAhs9ejT9+/enVatWREZGMm/ePKKjoxkxYgQA48aN4+jRoyxZsgQwo8QiIiJo3LgxiYmJvPPOOyxfvpzly5enXHPSpEm0bduWunXrEhcXx+uvv86uXbuYNWuWT+6xoChVqhTBwcGEh4e7jZCbM2cOLVq04MUXX0zZ99Zbb1G9enV+/vlnLly4QHJyMrfffjsREREEBAS4JZNhYWEkJCRccdTdxYsXmT59OmvXriXyr1lCr732Wr7++mvmzp3rlgBNnjw5Q21NnTp1ePnll1NeP/3001SvXp1///vf2Gw2GjRowLFjx3jqqaeYMGFCSnNc+vNERAq9U6fg0UfNts1mqlrsdpg7N/9nEszC55/DU0+Z7Zkz4ZZbfBpOlnyaAPXp04czZ84wefJkYmNjadKkCatWraJmzZoAxMbGEh0dnXJ8YmIiY8aM4ejRo4SFhdG4cWM+//xzevbsmXLM2bNnGTZsGMePH6dUqVI0b96cjRs30rp167y7kfBwUxPjiaNHoWFD92pMux327oWqVT377FzYsWMH69ato3gmNVi//vor3bp1o0uXLtx4441069aN7t27c++991KmTJlsf8bevXu5fPlyhsQmMTExw+i8VpksoJd+3759+4iMjHTrK9a+fXsuXLhATExMyhxSmV1LRKTQcjjggQdMp5r69c2MzMePm1kEC0jys3cv9O2b2gTmaaNGfvJ5J+iRI0cycuTITN9btGiR2+snn3ySJ5988orXmzFjhsejnHLNZstWM5SbevVg3jwYPtx8qV0ZfL16eRNjFpxOJ3fccQdTp07N8F7lypWx2+2sXr2aqKgotmzZwhtvvMHTTz/Ntm3bqJWNmT9dnwHw+eefUzVdcpe+83mxTMox/b7MOsq7mrjS7s/sWiIihdZzz8GaNeY/vsuXm57Ff62CUBCcOWMWhT9/Hjp0MLM+ZzGmqUDweQLk1wYPNp3VfvklXzL44OBgHA6H274WLVqwfPlyIiIiMoy4crHZbLRt25Zu3brx7LPPUrNmTVauXMno0aMzvWZ6jRo1IiQkhOjoaLfmrpxq1KgRy5cvd0uEtmzZQokSJTIkWCIiRcLq1fBX/03mzoXGjX0bTzpJSfD3v8Nvv0FEhMnPCvpUeVoN3teqVYObb86X6suIiAi2bdvGoUOHOH36NE6nk0ceeYQ//viDvn37sn37dn777TfWrFnDoEGDcDgcbNu2jSlTprBz506io6NZsWIFp06domHDhinX3LNnDwcOHOD06dOZzsJZokQJxowZwxNPPMHixYv59ddf2blzJ7NmzWLx4sUe38fIkSM5cuQIjz32GPv37+eTTz7h2WefZfTo0V4fji8i4nPR0XD//aZdacQI0wxWwIwaBevWmfFAn34KHsyr6DP6a+FHxowZg91up1GjRpQvX57o6GiqVKnC5s2bcTgcdO/enSZNmvD4449TqlQpAgICKFmyJBs3bqR37940aNCA8ePH8+qrr9KjRw8Ahg4dSv369WnVqhXly5dn8+bNmX72c889x4QJE5gyZQoNGzake/fu/Pe//812M1paVatWZdWqVWzfvp3rr7+eESNGMHjwYMaPH5+r8hERKXASE81kOmfOmFFe+d3FIxvmzDGzuNhs8O67kJeDrr1JTWB+pF69emzdujXD/rp167JixYpMz2nYsCFffPEFcXFxlCxZMkMNS/ny5VmzZs1VP9tms/GPf/yDf/zjH5m+f/PNN2c6VD2reYU6duzI9u3bs/y8rM4TESlUxoyBbdvMZDrLlkEBW4Fg3Tp47DGz/cILcOedvo3HE0qARERECqKlS01PYoAlS64683J+iomB9etN8uNwQL9+MHasr6PyjBIgERGRgmb/fhgyxGyPGwe33+7beNJYsMAMcXfN4hIRAfPnF+wRX5lRAiQiIlKQXLwI995r5pfr1Cl19JcPnTsH338PX34JaebNBcwyZGfOFJipiLJNCZCIiEhBYVlmfriffoLKleG99yCLKUpyK6u1uC9cgJ074bvvUh8//5z1dRwOM5uLEiA/obWlii7924qIz8yda4ZS2e2mD9AVlhnKjbTNWAEBcN99ZjH5776DffsyX2s1IgIaNYIvvnBfh9tuN1PZFTZKgDwUFBQEQHx8PGFhYT6ORvJCfHw8kPpvLSKSL777Dh5/3Gy/9BLcdFOefMzBgzB0aGoS43Saiqa0qlaFVq1SHy1bQvny5r0FCzIuYlDYan9ACZDH7HY7pUuX5uTJkwCEh4dnWJahqHE6nSQmJnL58uUiPdGgZVnEx8dz8uRJSpcujd1u93VIIuIv/vjD9PtJTIS//Q3++U+vf8SxYzBrlhlYlllF94MPmhBatjStb1nJ50UM8owSoBxwrXzuSoKKOsuyuHTpEmFhYUU+2QMoXbr0FVe3FxHxKqcTBgyAw4ehdm1YuNCrQ6p27TLzJ77/vlmyIjN2Ozz/fPaTmWrVCm/i46IEKAdsNhuVK1emQoUKmS79UNQkJSWxceNGOnToUOSbhYKCglTzIyL5a+pU+PxzCAmBjz6C0qVzfUmn0/TVmT4d1q5N3X/jjTB6NJw+DQ8/XPibsXJDCVAu2O12v/hjabfbSU5OJjQ0tMgnQCIi+erDD+Hpp832rFnQrFmuLhcfD2+/bWp8Dhww++x2s1DpE09A69apx/boUfibsXJDCZCIiIgvvPqqWeoCctTklXYYe2CgyZ/mzDFz8gCULGlGej32GNSokfH8otCMlRtKgERERPLbr7+mJj+QOv9P9+7ZykrSDmO32cxQdofDvFerllmd/aGHoESJvAm/KFACJCIikp8sK3UF0bSyOaNgTIz7UhSWZU5t1cqsmtGrl2n2kitTAiQiIpKfZs82PZTTy+aMggcPZj5R4SuvwM035z48f1F0J3UREREpYGwbN5r2KTCT7riqajwYinX4cMZ9hXU2Zl9SDZCIiGS9MJR4TdipU9iHDoXkZOjb1yx5cfSoR0OxfvklNX+y2Uzzl78OY88tJUAiIv4u/cJQ//oXDBwIZcpAqVLZ61CiBOrK4uNpPWUKtlOnoHlzmD/fZDAeDMWKj4d77jErs7drZ4a7R0f77zD23FICJCLiz9L3qHU6zZTAzz+fekypUmZyvjJlzCPtdpkysHevmWbYskwCNW+emdlYDMvCPmIEpX/7DatcOWwrV0J4uKeXYPhw2LMHKlaEZcugShW49to8itkPKAESEfFne/Zk3qM2JAQSEsz2uXPmkVnnk/ScTpNQtWjh3TgLs1dfJeCDD3Da7Tg/+IDAmjU9vsScOfDOO6mLxFepkgdx+hklQCIi/srhMFMGp2e3m84mFSrA2bPw55/mkXbb9fqnnzKOaHI6CWzdmhtatcKWlAR33gnBwflwQwXQ6tXw1FMA/Dh4MA07dPD4Elu3pvb7efll6NjRi/H5MSVAIiL+yLLg8cfhyy/NNMJOp3mk71FboYJ5ZCUmBmrWzFCLZEtOpso335g1GK65Bu67D/r3hzZtvLrQZ4H2yy/mvp1OnAMH8nuPHjT08BInTpjBYklJqctZiHdoGLyIiD+aPt2snWCzwQcfmOatdevg0CEYPDj716lWzfT5STuce/58kr77joN/+xtW5crwxx9m7pvISKhfH557Dn7/PfUaMTHms2NivHqLPnX+PPztb6aWrG1bHG+84XHil5xs8qdjx6BhQ9NX3V9yx/ygBEhExN989FHqMgzTppmhRdWqmVn0cjKcaPBgkzilTaCuu469AweS/NtvsGYNPPCA6fh78CBMmGB673boAA8+aGqQOnc2zwsWePFGfcTpNPf1009QuTIsX276VHlo3DhYvx6KF4cVK7SshbcpARIR8SdbtphkBODRR73XppJVAmW3Q9euZsz2iROweDHccoupyti0CZYscR+BNmyYGVVWmD3/PKxcafo9rViRox7LH31kclOARYugQQPvhihKgERE/MfBg6ZDckKCeZ45M3/bVIoXN8Pjo6LMBDbDhmU8xumExo3NfEJ9+sDUqaafkmuJ88wUpCa0Tz+FZ58123PmQNu2Hl9i3z6zkCnA//2fqaAT71MnaBERf3D6NPTsaRKJVq3gvfd8u2JmtWrwzDNmQsDMhuH/8ot5fPhh6r6ICDO8vkULaNnSPP/3v+6TOM6b51kfJm/at8+9dm3QII8vcf483H03XLhgKtRefNG7IUoqJUAiIkXdpUumxueXX0wS8dlnUKyYr6NK7UA9fLgZku8agdarF+zcCd9/Dzt2mOdffzX9iw4dMs1KmXE1oXXtCjVq5OedmM7OvXqZDKZjR9PJ3EOWZXKm/fuhalXTNz1Qf6XzjIpWRKQoczrN8POtW80MzqtWmamEC4rBg6F794zrYXXtah4uZ8+mJkWuxOjAgYzXczrNSLNmzeC668zj+uuhaVMzo3V63ljCw+GAfv3MdWrUMNM0BwV5fJnp003fn6Agc4mC9M9UFCkBEhEpyp580oxCCg6Gjz8246kLmuysh1W6NHTqZB4u+/eb/kLpm9AuX4ZvvjGPtGrWNMmQKzH6+WczIi03zWcxMaaMv/gCwsJMGZcv79k1MKO9/povkZkzzYwBkreUAImIFFWzZsGrr5rthQuL3hTCDRpkbEKbPRtuusks8bF7t3nesweOHDFzHR0+bDoqp+d0wpAhpuqlTBkIDTWPsLDU7fT7tmwxTXaWZa7xwANmoVMPHT1q+ns7HKay7uGHc1kuki1KgEREiqL//hf+8Q+z/cILpommKMqqCa1hQ5NVuPzxB/zwQ2pi9PXXmTehrV6d81jeesvUKHnQlPbbb3DHHXDypKmcevNNTXaYX5QAiYgUNd99l7IEA0OGmBn1irLsNKFdc42pAXPVgmW2hEdAgEkWw8JMM9rly6YDuWs77ePoUVPOaTkcJhHLZgK0YAEMHZpagdSnj8eLxEsuKAESESlKDh2C22+H+HhTMzJ7tqoUMpPVCLTs9gHKLIGy200tVDZPT5v8gJkVoH//nPfFFs9oIkQRkaLixx9NDceJE6Y9JYejkfxGZkt4ZFdma6ClXUT2KtaudU9+ILUCSfKHaoBERIqCuXNhxIjU1w88oMWjsiM7zWdZyar/0VVcvmwmuE7Pgwok8QKf1wDNnj2bWrVqERoaSsuWLdm0aVOWx65fvx6bzZbhsX//frfjli9fTqNGjQgJCaFRo0asXLkyr29DRMR3YmIyDh0aO7ZgLA1R1OVgEdkxY8xyZ8WL57gCSbzApwnQ0qVLGTVqFE8//TQ7d+7kpptuokePHkRHR1/xvAMHDhAbG5vyqFu3bsp7W7dupU+fPvTv35/du3fTv39/evfuzbZt2/L6dkREfOPnn9WeUkisXGlj1iyzvWxZzlvgJPd8mgBNnz6dwYMHM2TIEBo2bMjMmTOpXr06c+bMueJ5FSpUoFKlSikPe5r1bGbOnEnXrl0ZN24cDRo0YNy4cXTp0oWZM2fm8d2IiPjIxYsZ96k9pcA5cSKcYcPM36unnoJbb81RBZJ4ic/6ACUmJrJjxw7Gjh3rtr9bt25s2bLliuc2b96cy5cv06hRI8aPH0+nNDODbt26lSeeeMLt+O7du18xAUpISCAhISHldVxcHABJSUkkJSVl95aKLFcZqCwMlUcqlYU7X5WHfeVKAgDLZsNmWVh2O47Zs7EqVgQf/dvou+Hu4sUkpk1rxblzNtq2dTJhgsNX/zQFQl59Pzy5ns8SoNOnT+NwOKiYbrGTihUrcvz48UzPqVy5MvPmzaNly5YkJCTw9ttv06VLF9avX0+HDh0AOH78uEfXBJgyZQqTJk3KsH/dunWEa1KGFFFRUb4OoUBReaRSWbjLz/IIvHiR7u+9RwCw/cknSSpenIuVK3O5XDmz7peP6bthLFrUiIMH61KsWCKDBq0nKuqSr0MqELz9/YiPj8/2sT4fBWZLNz+FZVkZ9rnUr1+f+vXrp7yOjIzkyJEjTJs2LSUB8vSaAOPGjWP06NEpr+Pi4qhevTqdOnWibNmyHt1PUZSUlERUVBRdu3YlSENqVR5pqCzc+aI8At58E3tCAlaDBrSYPLnAzPmj70aqVatsfPyx+XO7YIHF3Xd3usoZRV9efT9cLTjZ4bMEqFy5ctjt9gw1MydPnsxQg3Mlbdu25Z133kl5XalSJY+vGRISQkhISIb9QUFBfv+Dm5bKw53KI5XKwl2+lYdlwfz5ANhGjCAoODjvP9ND/v7diIlJ7dx8++2/cvfdNfy6PNLz9vfDk2v5rBN0cHAwLVu2zFD9FRUVRbt27bJ9nZ07d1K5cuWU15GRkRmuuWbNGo+uKSJSKGzfbta2Cg01UwhLgZKcbJZgO3MGmje3ePDBvb4OSdLwaRPY6NGj6d+/P61atSIyMpJ58+YRHR3NiL8m8xo3bhxHjx5lyZIlgBnhFRERQePGjUlMTOSdd95h+fLlLF++POWajz/+OB06dGDq1Kn06tWLTz75hC+//JKvv/7aJ/coIpJn5s0zz3//u1nrSgqUyZNh0yYzH+W77ybz88/Oq58k+canCVCfPn04c+YMkydPJjY2liZNmrBq1Spq1qwJQGxsrNucQImJiYwZM4ajR48SFhZG48aN+fzzz+nZs2fKMe3ateODDz5g/PjxPPPMM9SuXZulS5fSpk2bfL8/EZE8c+4cfPCB2R4+3LexSAZffQXPP2+2580zMxL8/LNvYxJ3Pu8EPXLkSEaOHJnpe4sWLXJ7/eSTT/Lkk09e9Zr33nsv9957rzfCExEpmN591yx42qgRqIm/QDlxAu6/33TRGjoU7rvPZ7MRyBX4fCkMERHxkGWZdRPA1P4UkJFfYhaHf+ABkwQ1aQKag7fgUgIkIlLYbNumzs8F1EsvwZdfQng4LF1qnqVgUgIkIlLYuDo/9+4NZcr4NhZJ8fXXMGGC2Z41y7ROSsGlBEhEpDA5e1adnwugM2egb1+zBm3//vDgg76OSK5GCZCISGHy7rtw6RI0bgyRkb6ORjBdsgYONJMe1qsHs2erW1ZhoARIRKSwUOfnAicmBh55BD77DEJCTL+f4sV9HZVkh8+HwYuISDZt2wY//GA6Pz/wgK+j8XsLFsCwYWbkF8C990KzZj4NSTygGiARkcLCVfvTp486P/uQwwHLlpk5fpxpJnf+4ANTIySFg2qAREQKg7NnTfsKqPOzDzidsHkzfPghfPQRpFtzGzCJ0S+/QLVq+R+feE4JkIhIYfDOO6bzc5Mm0Latr6PxC04nbN1qkp5lyyA2NvW9kiXh/HnTLcvFbjdLXkjhoCYwEZGCTp2f80xMDKxbl9p05XTCli3wxBNQowbceCO8/rpJfkqVMsPbP/8cTp2C//zHJD1gnufOVe1PYaIaIBGRgu6bb+DHHyEsrEh2fo6JgYMHoW7dnCUQOT0/bSfmgADo0gX27XPvx1OyJPztb2bOyVtuMSO9XAYPhu7dTbNXnTpKfgobJUAiIgVd2s7PpUv7NBRvS5+EzJtnEovMWBZcvmzWgHU93nvPrLrudJqKsWHDTAvhpUvmER+fup329R9/mBXbXZxOiIoy2yVKQK9eJunp1s096UmvWjUlPoWVEiARkYLszz9TOz8PG+bbWK7garUwlgVxcXDypFko9ORJOHAAnn46tR+N0wlDhsCcOaZDsStZcSU7ly5dOQZXS6ErX8yJ556DMWPMTANStCkBEhEpyN55x1R7NG1aYDs/z54Njz2WWgvTrRtUqGDnp5/aMnmynZMnTcKTmJi96+3YcfVjgoMhKAguXsz43g03mCQsPNy0GoaFuW+HhZkifeqpjJ2YBw5U8uMvlACJiBRUBbTz84kTZkj411/D2rWwe3fqe5YFq1eDGWNTMcO5xYtDhQpQsaJpaoqKck9CAgLgzTehenWTtKR9pE1kAgNNrVPNmu5z8djtsGJF9pqlrrnGFKvDoU7M/kgJkIhIQbV1K/z0k/mLf//9efpRWTVhWZbZ//XXqY+DB69+vUGDHISH76FLl6ZUrRpIhQpQvrxJYNJasCBjEpJVH6D0qlUzfYZymsSoE7N/UwIkIlJQuWp/7rsvTzs/p++IPG6cqR1xJTynTrkfb7OZ6YhuvBEaNoRRozLWwowf72TPnmh69mxCUFDWn53bJCS356sTs/9SAiQiUhD9+aeZgQ/ytPNzTIz7elZOJ7zwgvsxISHQurVJeG680SxCn3YljvDwzGth9uzJXgy5TUKUxEhOKAESESmI3n7b9NS97jpo0ybPPubnn91rb1wiI838NzfeCC1bXnkoeGa1MElJeRayiFcoARIRKWgsy3RugTzt/JyUlPoxadntpvLJk1oV1cJIYaMESESkoNmyxXR+Dg/Ps87P587BvffCl1+a/MpmMzVBGg0l/kIJkIhIQZO283OpUl6/fHQ09Oxpcqxixcw8i9dfr9FQ4l+UAImIFCR//JGnnZ937IDbb4fjx6FyZbOwZ/Pm5j0lPuJPtBq8iEhB8vbbkJBgqmRat/bqpf/7X+jQwSQ/TZvCtm2pyY+Iv1ECJCJSUBw5AjNmmO1hw7za+fnf/zajuuLjzVIVX39tZlsW8VdKgERECoIFCyAiAg4fNq8dDq9c1uGA0aNT1+oaMgQ++wxKlvTK5UUKLSVAIiK+ln42QoAnnjD7cyE+Hv7+99RKpRdfNMPerzQzs4i/UCdoERFfO3gw42yEDocZlpXDnsknTsCdd8L27Wbl9MWLzaAyETGUAImI+FpwcMZ9drsZk54D+/aZYe6HDpk1vT75xMzoLCKp1AQmIuJLly7Bo4+678vhbIQxMTB9OrRta5Kf2rXNgvJKfkQyUg2QiIivWBaMHAm7dkH58mZSnosXczQb4YIFMHSouSSkJj/ly3s/bJGiQAmQiIivzJ8PixZBQAB88AHccEOOLhMT4578gKkBSkjwSpQiRZKawEREfOG771Kbvl54ATp3zvGlDhxwT34gtQ+1iGROCZCISH47c8asRJqYCL16wVNP5epy+/dn3JeLPtQifkEJkIhIfnI44IEHzISHtWubJrBczPicnAyvvWa2XZfRiu4iV6c+QCIi+em55+B//4OwMFixAkqXztXlFi820wiVKwebNpl1vrSiu8jVKQESEckvX3wBkyeb7blz4brrcnW5y5dh0iSzPW4cNGhgHiJydWoCExHJD4cOwf33m97KDz8M/fvn+pJz55r1U6tWNZcUkexTAiQiktcuXzadnv/8E1q3Tl2cKxcuXDCDxwAmTDAtaiKSfT5PgGbPnk2tWrUIDQ2lZcuWbNq0KVvnbd68mcDAQJo1a+a2f9GiRdhstgyPy5cv50H0IiLZ8NhjsGMHlC0Ly5ZBSEiuL/n663DqlOlH/dBDXohRxM/4NAFaunQpo0aN4umnn2bnzp3cdNNN9OjRg+jo6Cued+7cOQYMGECXLl0yfb9kyZLExsa6PUJDQ/PiFkREruytt8yEhzYbvP8+1KiR60v++Se8/LLZnjRJq7uL5IRPO0FPnz6dwYMHM2TIEABmzpzJ6tWrmTNnDlOmTMnyvOHDh9OvXz/sdjsff/xxhvdtNhuVKlXKdhwJCQkkpJkyNS4uDoCkpCSSkpKyfZ2iylUGKgtD5ZFKZeEuQ3ns3EngI49gAxwTJ+K8+WbwQlm99FIA587ZadzY4p57kr1xSa/Td8OdysNdXpWHJ9fzWQKUmJjIjh07GDt2rNv+bt26sWXLlizPW7hwIb/++ivvvPMOzz//fKbHXLhwgZo1a+JwOGjWrBnPPfcczZs3z/KaU6ZMYZJrKEUa69atIzw8PJt3VPRFRUX5OoQCReWRSmXhLioqiqALF+j4z38SdPkyx1u1YlvTprBqVa6vffZsCK+9dgsAd965ndWrj+f6mnlJ3w13Kg933i6P+Pj4bB/rswTo9OnTOBwOKlas6La/YsWKHD+e+Q/0wYMHGTt2LJs2bSIwMPPQGzRowKJFi2jatClxcXG89tprtG/fnt27d1O3bt1Mzxk3bhyjR49OeR0XF0f16tXp1KkTZcuWzeEdFh1JSUlERUXRtWtXglTXrvJIQ2XhLqU8unQhtHdvAk6cwLr2Wsp+/jk9y5TxymeMHh1AQoKdG25wMnFii9zMoZin9N1wp/Jwl1fl4WrByQ6fzwNkS/fTa1lWhn0ADoeDfv36MWnSJOrVq5fl9dq2bUvbtm1TXrdv354WLVrwxhtv8Prrr2d6TkhICCGZdEoMCgrSFzUNlYc7lUcqlUWq0NOnCXn0UQK++AJCQ7EtX05QhQpeufbhwzBvntl+8cUAgoN9Po7lqvTdcKfycOft8vDkWj5LgMqVK4fdbs9Q23Py5MkMtUIA58+f57vvvmPnzp08+tcCgk6nE8uyCAwMZM2aNXTOZDHBgIAAbrjhBg4ePJg3NyIi8hfbwoV0GzECm2tl0r59Id1I1dyYPNksH9apE2QxBkREssln/30IDg6mZcuWGdr/oqKiaNeuXYbjS5YsyQ8//MCuXbtSHiNGjKB+/frs2rWLNm3aZPo5lmWxa9cuKleunCf3ISICQEwM9ocfTk1+AJYsgZgYr1z+wAGz7AWY+X8KatOXSGHh0yaw0aNH079/f1q1akVkZCTz5s0jOjqaESNGAKZvztGjR1myZAkBAQE0adLE7fwKFSoQGhrqtn/SpEm0bduWunXrEhcXx+uvv86uXbuYNWtWvt6biPiZgwexOZ3u+xwO+OUXryzM9eyz5nJ33AGRkbm+nIjf82kC1KdPH86cOcPkyZOJjY2lSZMmrFq1ipo1awIQGxt71TmB0jt79izDhg3j+PHjlCpViubNm7Nx40Zat26dF7cgImLUro0FuFXM2O1mZdJc2rULli4121kMfhURD/m8E/TIkSMZOXJkpu8tWrToiudOnDiRiRMnuu2bMWMGM7wwzbyIiEeio7FBahJkt5vFurxQ+zN+vHm+775cr58qIn8p+EMIREQKgw8+AOBYZCTJUVFm8dPBg3N92S1b4PPPTT6VyXRlIpJDPq8BEhEp9JKTzRpfwOFu3ajQsaNX1qewLPjXv8z2Qw/BFWYAEREPqQZIRCS31q+HkyexypXjdNOmXrvsl1/Chg0QHGxWfBcR71ECJCKSW++/D4Dz7ruxspil3lOWBU8/bbYffhiqV/fKZUXkL0qARERyIyEBVqwAwOrd22uX/eQT+PZbKFYMxo3z2mVF5C9KgEREcmPNGjh7FqpUwbrxRq9c0uFIHfk1ahRkMjm+iOSSEiARkdz4q/mLPn0gwDu/Ut9/H376CUqXhjFjvHJJEUlHCZCISE5dvGjaqsBM0uMFSUlm1meAJ580SZCIeJ8SIBGRnPr8c4iPh2uvhRtu8Mol33oLfvsNKlSAf/zDK5cUkUwoARIRyam/Jj/kvvu8sjrpwYOpI7/GjzcdoEUkbygBEhHJiXPnYNUqs+2F5q8FC6B+fThzxrz2wjyKInIFSoBERHLi44/NEPhGjaBJk1xdKiYGhg0zc/+4PPqo2S8ieUMJkIhITnix+evgQXA63fc5HPDLL7m6rIhcgRIgERFPnToFUVFm2wvNX+HhGffZ7VCnTq4vLSJZUAIkIuKp5ctNFU3LllC3bq4vN3u2+2u7HebOhWrVcn1pEcmCVoMXEfFU2uavXNq1C95+22x/9pkZ+VWnjpIfkbymBEhExBNHj8LGjWa7T59cXcqy4P/+zzz37Qu33eaF+EQkW9QEJiLiiQ8/NBnLjTfmeon21avhyy8hOBheeMFL8YlItigBEhHxhJeavxwOs9QFmCHvtWrlMi4R8YgSIBGR7PrtN9i+3Sx6eu+9ubrUkiXwww9mrS/X7M8ikn+UAImIZNfSpea5SxeoWDHHl4mPN0tdgHm+5hovxCYiHlECJCKSXe+/b55z2fw1YwYcOwY1a8Ijj3ghLhHxmBIgEZHs+Okn02YVFAR33ZXjy5w8CVOnmu0XX4TQUC/FJyIeUQIkIpIdruavW2+FMmVyfJnJk+H8eTOHohemERKRHMpRAnT27Fnmz5/PuHHj+OOPPwD4/vvvOXr0qFeDExEpECwrtfmrb98cX+bnn80MzwCvvGL6UouIb3g8EeKePXu45ZZbKFWqFIcOHWLo0KFcc801rFy5ksOHD7NkyZK8iLPoiIkxKx/WraupXkUKi++/NyuThoXBHXfk+DJjx0JyspnwsFMnL8YnIh7z+P8fo0ePZuDAgRw8eJDQNI3XPXr0YKNrdlTJ3IIFptdj587mecECz86PiYF168yziOQf19w/d9wBxYvn6BKbN8PKlabW5+WXvRibiOSIxzVA3377LXNddbhpVK1alePHj3slqCIpJgaGDQOn07x2Os3r5GSoXRtKlTITgrieg4Pdz1+wIPX8gACYNw8GD87vuxDxP05nav+fHHbacS15AebHtlEjL8UmIjnmcQIUGhpKXFxchv0HDhygfPnyXgmqSDp4MDX5cXE6YcSIzI8PDU1NiMLCzIqJac8bPhy6d1czmkhe27IFjhyBkiWhR48cXWL5cti6FcLDYdIkL8cnIjnicRNYr169mDx5MklJSQDYbDaio6MZO3Ys99xzj9cDLDLq1s3Y49FmgxtugCZNzJpCJUqkvnf5Mhw/DgcOuCc/Lg6HGYr7+utmdloRyRuu5q+77srRmPXERNP3B2DMGKhc2YuxiUiOeZwATZs2jVOnTlGhQgUuXbpEx44dqVOnDiVKlOAFreaXtWrVTLOV3W5e2+3wn/+YafV/+AGioyEuzjSJ/fEH/P477NwJ69fD/PkmWUrvu+/g8cdNE1qjRqaOfcMG+Cs5FZFcSk6GZcvMdg6bv958E3791Uwc7WoGExHf87gJrGTJknz99desXbuW77//HqfTSYsWLbjlllvyIr6iZfBg02z1yy9Qp07mzVd2u5ljJO08Ix07mufhw03Nj90OEyeaprHPPoOvv4Z9+8xj2jTTdNa9O9x+u5mzpFw5c75GoIl4Zt06M3Nh2bJm+QsPnTtn5v0B0/SVw/7TIpIHPE6AXDp37kznzp0BMy+QZFO1ajlLPrJKnv75Tzh7FtasMcnQF1/A6dOm0+bSpabZrW1bqFQJPv5YnahFPOFq/vr7380M0B566SU4cwYaNNCPm0hB43ET2NSpU1nqGhEB9O7dm7Jly1K1alV2797t1eAknWrV4OabMyZQpUtD795meenjx02nzaefhuuvNwnPli2wYoX7CLThwzWcXuRKEhLMzw3kqPnryBGYOdNsT50KgTn+76aI5AWPE6C5c+dSvXp1AKKiooiKiuKLL76gR48e/J8auH3PbofISHj+edN5Ojoanngi43EOh6lNEpHMrVljalerVIEbb/T49PHjzViGDh1yNXeiiOQRj/9PEhsbm5IAffbZZ/Tu3Ztu3boRERFBmzZtvB6g5FL16jB6NLz2mvswfJvNNKWJSOZcS1/07p06eCGbdu2Ct98226+8kvkYBhHxLY9rgMqUKcORI0cA+N///pfS+dmyLBwOh3ejE+9IPwINzMxsrup9EXF38SJ88onZzsHaX//6lx3Lgj59oHVrL8cmIl7hcQJ09913069fP7p27cqZM2fo8dfEYLt27aKOahQKrsGD4dAhM6pl3Dizb9So1F/yIpLq888hPh5q1TJzdXlgw4aqfPllAIGB8OKLeRSfiOSax01gM2bMICIigiNHjvDyyy9T/K9xnbGxsYwcOdLrAYoXuUagdexohqbMmwf9+pm5g1q18nV0IgWHq/nrvvs8ar9asMDGjBktAdPNbt06uPbavAhQRHLL4xqgoKAgxowZw2uvvUbz5s1T9o8aNYohQ4Z4HMDs2bOpVasWoaGhtGzZkk2bNmXrvM2bNxMYGEizZs0yvLd8+XIaNWpESEgIjRo1YuXKlR7HVaTZbDBrlpkjKD7ezBd0+LCvoxIpGPbuNVNKgEejv2JiYORIO2ASJsvSYEuRgixHAzOPHj3K5s2bOXnyJM5061v94x//yPZ1li5dyqhRo5g9ezbt27dn7ty59OjRg71791KjRo0szzt37hwDBgygS5cunDhxwu29rVu30qdPH5577jnuuusuVq5cSe/evfn666/VSTutwEAzT9BNN8GePdCzp1muunRpX0cm4jsLFsDQoSZ7ATNT+3XXZevUgwfBstxri1yDLTXvqEjB43ECtHDhQkaMGEFwcDBly5bFlqZ62GazeZQATZ8+ncGDB6fUHM2cOZPVq1czZ84cpkyZkuV5w4cPp1+/ftjtdj7++GO392bOnEnXrl0Z91c/l3HjxrFhwwZmzpzJ+65qbTFKljR9Hdq0Mf/rveceM5Fi+pXoRfxBTAwMG5aa/IBZrPjWW7OVwZQqBWDhqgECM+5AXSNFCiaPE6AJEyYwYcIExo0bR0D6xT09kJiYyI4dOxjrWiXwL926dWPLli1Znrdw4UJ+/fVX3nnnHZ5//vkM72/dupUn0s170717d2a6ZiTLREJCAgkJCSmvXavdJyUlpSz6WmRVrAgff0xg587Y1q7FOXQojv/8x63fg6sMinxZZJPKI1VRKgvbvn0EpqvRxuEgef9+rIoVr3r+unUBgB1XEmS3W8ye7aBiRcsvl+crSt8Nb1B5uMur8vDkeh4nQPHx8dx33325Sn4ATp8+jcPhoGK6XywVK1bk+PHjmZ5z8OBBxo4dy6ZNmwjMYlrV48ePe3RNgClTpjBp0qQM+9etW0d4ePjVbqVIqDBqFG1ffJGAJUs4kJzMz717ZzgmKirKB5EVXCqPVEWhLEJPn6abzYYtTQ2QMyCArw4f5vKqVVc9/803OwBl6Nt3P40anaFy5YuUK3eZbJxapBWF74Y3qTzcebs84uPjs32sxwnQ4MGDWbZsWYaam5yypRthYVlWhn0ADoeDfv36MWnSJOrVq+eVa7qMGzeO0aNHp7yOi4ujevXqdOrUibJly2bnNgq/nj1xVqqE/dFHafjee9Tt1g2rXz/AZNRRUVF07dqVoBysh1TUqDxSFbWysD79FNunn5ptux3n7Nl0HjDgqucdOAC//BKE3W5x662HuPfejkWiPHKjqH03ckvl4S6vysPVgpMdHidAU6ZM4fbbb+d///sfTZs2zRD49OnTs3WdcuXKYbfbM9TMnDx5MkMNDsD58+f57rvv2LlzJ48++igATqcTy7IIDAxkzZo1dO7cmUqVKmX7mi4hISGEhIRk2B8UFORfX9RHHjFzBU2bRuCwYRARkboSPX5YHleh8khVZMoiOdk8P/ootqeeIjCbvZc//NA8d+tmUapUYtEpDy9QWbhTebjzdnl4ci2PE6AXX3yR1atXU79+fYAMnaCzKzg4mJYtWxIVFcVdd92Vsj8qKopevXplOL5kyZL88MMPbvtmz57N2rVr+eijj6hVqxYAkZGRREVFufUDWrNmDe3atct2bH5t6lT4/XdYvhzuugu2btVEJuIfXAsHAzz4YLaHblkWvPuu2b7vPueVDxaRAsPjBGj69Om89dZbDBw4MNcfPnr0aPr370+rVq2IjIxk3rx5REdHM2LECMA0TR09epQlS5YQEBBAkyZN3M6vUKECoaGhbvsff/xxOnTowNSpU+nVqxeffPIJX375JV9//XWu4/ULAQFmEaOjR+Gbb8zw+GzOzSRSqO3fbxY/DQ+H66/P9mnbtsFvv0GxYnDnnRYbNuRdiCLiPR4nQCEhIbRv394rH96nTx/OnDnD5MmTiY2NpUmTJqxatYqaNWsCZnbp6Ohoj67Zrl07PvjgA8aPH88zzzxD7dq1Wbp0qeYA8kRYmFkio21b+O037HffTUCaPlIiRZKr9qd1a/CgGv2dd8zzXXeZJEhECgePh3I9/vjjvPHGG14LYOTIkRw6dIiEhAR27NhBhw4dUt5btGgR69evz/LciRMnsmvXrgz77733Xvbv309iYiL79u3j7rvv9lq8fqNCBVi1CsqUIWDbNm6YOhXb2rWa1laKLlcC5EFzeVKSmU8U4P778yAmEckzHtcAbd++nbVr1/LZZ5/RuHHjDB2OVmiF8aKjQQNYuRKrSxcqff+9mRAuIMCsITZ4sK+jE/GuzZvNswcJUFQUnD5t/r9wyy3ucyiKSMHmcQJUunRp1aj4k9q1TedQF6fTLHDUvbvm95ei4/Rp+Plnsx0Zme3TXM1f991nVpfRHHcihUeOlsIQP3LwoNvEcIAWOJKiZ+tW89ywIVxzTbZOuXDBdJUDNX+JFEa5m85Zir66dbHSz/odEKAFjqRoyUH/n48/hvh4qFsXbrghb8ISkbyjBEiurFo1HHPm4EybBHXpotofKVpy0P/H1fx1//1uS+eJSCHhcROY+B/roYeIstu5JTYW+zPPwM6dkJAAmcyeLVLoJCbCt9+a7WwmQCdOmA7QoOYvkcJKNUCSLZfLlcP5z39ClSqmw+hf6yWJFHq7dsHly6bvz18z3F/N0qVmPEDr1moNFimsPEqAkpKS6NSpEz+7RkuIfwkMBNcM4AsW+DQUEa9J2/8nm21ZruavBx7Io5hEJM95lAAFBQXx448/erTmlxQxgwaZ5zVr4PBh38Yi4g0e9v85eNC0mNnt0KdPHsYlInnK4yawAQMGsED/+/dftWtDp05mxrdFi3wdjUjuWFZqDVA2l/hxLXzatauZAFFECiePO0EnJiYyf/58oqKiaNWqFcXSLX4zffp0rwUnBdTgwbBuHbz1Fowfb/4rLFIYRUfDsWOmebdVq6sennbldzV/iRRuHidAP/74Iy1atADI0BdITWN+4u67oXRp88fjq6+gWzdfRySSM67an+bNzSrwV7F9u5kDNDwcevXK49hEJE95nACtW7cuL+KQwiQszIz9nTXLdIZWAiSFlYf9f1y1P3/7GxQvnjchiUj+0DB4yZkhQ8zzypVmWLxIYeRB/5+kJPjgA7Ot5i+Rwk8JkORMs2bQooX5q+AaEyxSmFy4ALt3m+1sLID65Zdw6hSUL286QItI4aYESHLOVQs0f77pHSpSmGzfbmYzrFEjW0u7uJq/+vQxfaZFpHBTAiQ517cvhIbCTz+ZPyYihYkH/X8uXDCtvaDmL5GiQgmQ5Fzp0vD3v5ttzQ0lhY0H/X8++cSs/F67tln+QkQKPyVAkjuDB5vn9983/00WKQycTti61WxnowbI1fylld9Fig4lQJI7HTqY1SAvXIBly3wdjUj27N0L586ZCX2uu+6Kh548aVZ+Aa38LlKUKAGS3LHZUmuB5s/3bSwi2eVq/mrT5qo9mpcuBYcDbrgB6tXLh9hEJF8oAZLce/BBsxzGli2wb5+voxG5Og/6/6Rt/hKRokMJkORe5cpw221mW52hpTBwJUBX6f/zyy+wbRsEBGjld5GiRgmQeIerGWzJEkhM9G0sIldy8iQcPGi227a94qFpV36vVCmP4xKRfKUESLyjZ09TE3TqFPz3v76ORiRrrtFfjRpBmTJZHpZ25Xc1f4kUPUqAxDsCA01fIFAzmBRs2ez/8913pqIoLMwsfioiRYsSIPGeQYPM8+rVcOSIb2MRyUo2+/+kXfm9RIm8DUlE8p8SIPGeunWhY0czydyiRb6ORiSjhAT49luzfYUEKDnZzO0Jav4SKaqUAIl3uTpDv/WWSYRECpKdO00SVK6cSdiz8NVXpq90uXLQrVs+xici+UYJkHjXPfdAqVJw6BCsXevraETcpW3+usKaFmlXfg8Kyoe4RCTfKQES7woPh379zLY6Q0tBk43+Pz//nLqqi5q/RIouJUDifUOGmOcVK+DMGd/GIuJiWbB5s9nOIgFasAAaNIDLl83rn37Kp9hEJN8pARLva9ECmjUzEyK62hJEfO3QITh+3LRptWqV4e2YGBg2zORJLiNGmP0iUvQoAZK84aoFmj/f/S+KiK+4mr9atDCT+6Rz8GDGfvsOh1kOQ0SKHiVAkjf69YOQEPjhBzOjnIivXaX/T926Zs2vtOx2qFMnj+MSEZ9QAiR5o0wZuPdes63O0FIQXKX/T7Vq0KNH6mu7HebONftFpOhRAiR5xzUn0HvvwcWLvo1F/FtcnKmNhCuOAIuLM89jxpguQ66vsIgUPUqAJO907Ai1a8P58/DRR76ORvzZ9u2mg09EBFSpkukhly/Dtm1me9gw1fyIFHVKgCTvBASkrg82f75vYxH/lo35f7ZtMwMXK1VSvx8Rf6AESPLWgw+aROjrr2HxYo0pFt+4Sv8fgI0bzXPHjlecJFpEigifJ0CzZ8+mVq1ahIaG0rJlSzZt2pTlsV9//TXt27enbNmyhIWF0aBBA2bMmOF2zKJFi7DZbBkel10zm0n+qloVmjQx2wMHQs2a6hQt+cvhgG++MdvZSIA6dMiHmETE5wJ9+eFLly5l1KhRzJ49m/bt2zN37lx69OjB3r17qVGjRobjixUrxqOPPsp1111HsWLF+Prrrxk+fDjFihVj2LBhKceVLFmSAwcOuJ0bGhqa5/cjmYiJSe18CqYfxvDh0L27OllI/ti71/RuLl4cmjbN9JCkpNRWso4d8zE2EfEZn9YATZ8+ncGDBzNkyBAaNmzIzJkzqV69OnPmzMn0+ObNm9O3b18aN25MREQEDzzwAN27d89Qa2Sz2ahUqZLbQ3zk4MGMEyFqdjnJT67Mpk0bCMz8/3w7dkB8PJQtCw0b5mNsIuIzPqsBSkxMZMeOHYwdO9Ztf7du3dji+oV1FTt37mTLli08//zzbvsvXLhAzZo1cTgcNGvWjOeee47mzZtneZ2EhAQSEhJSXsf9NRY2KSmJpKSk7N5SkeUqgxyVRUQEgQEB2NJMsWvZ7STXrGn+210I5ao8ipjCUBb2TZsIABxt2uDMIs61awMAO+3bO3E4HDgcOfuswlAe+UVl4U7l4S6vysOT6/ksATp9+jQOh4OKFSu67a9YsSLHjx+/4rnVqlXj1KlTJCcnM3HiRIa4ll0AGjRowKJFi2jatClxcXG89tprtG/fnt27d1O3bt1MrzdlyhQmTZqUYf+6desIDw/Pwd0VTVFRUTk6r8bDD3P9nDkE/JUEnW7QgC179sCePd4ML9/ltDyKooJcFl2++oriwLagIE6tWpXpMStWtAEqUa7cT6xa9VuuP7Mgl0d+U1m4U3m483Z5xMfHZ/tYm2X5ZqGmY8eOUbVqVbZs2UJkZGTK/hdeeIG3336b/fv3Z3nu77//zoULF/jmm28YO3Ys//73v+nbt2+mxzqdTlq0aEGHDh14/fXXMz0msxqg6tWrExsbS9myZXN4h0VHUlISUVFRdO3alaCgoJxdJCaGgI8/xj56NFZAAMnffZfaObqQ8Up5FBEFvixOnCCoenUsm43kEyegdOkMhzgcULFiIHFxNrZtS+IKlcVXVeDLIx+pLNypPNzlVXnExcVRrlw5zp07R8mSJa94rM9qgMqVK4fdbs9Q23Py5MkMtULp1apVC4CmTZty4sQJJk6cmGUCFBAQwA033MDBgwezvF5ISAghISEZ9gcFBemLmkauyqNWLXjiCdi8Gdvy5QSNGwf/+593A8xn+n6kKrBl8dc6dLbGjQkqXz7TQ374wfSRLlkSWrYMwm7P/ccW2PLwAZWFO5WHO2+XhyfX8lkn6ODgYFq2bJmh+isqKop2Vxiqmp5lWW61N5m9v2vXLipXrpzjWMWLpk6FoCBYvbrQJ0BSCHgw/8+NN+KV5EdECgefDoMfPXo0/fv3p1WrVkRGRjJv3jyio6MZMWIEAOPGjePo0aMsWbIEgFmzZlGjRg0aNGgAmHmBpk2bxmOPPZZyzUmTJtG2bVvq1q1LXFwcr7/+Ort27WLWrFn5f4OSUe3a8NhjMH26WXDplluyHJkjkmuuARXt22d5yIYN5lnD30X8i0//8vTp04czZ84wefJkYmNjadKkCatWraJmzZoAxMbGEh0dnXK80+lk3Lhx/P777wQGBlK7dm1eeuklhg8fnnLM2bNnGTZsGMePH6dUqVI0b96cjRs30rp163y/P8nC+PGwaBH89JOZFDHNv5+I1yQkpDSBZVUD5HSCaxYNTYAo4l98/l/vkSNHMnLkyEzfW7Rokdvrxx57zK22JzMzZszIMDu0FDBlysDEifCPf8Azz0DfvqYDhog3ff+9WdyrfHlT85iJvXvhzBkID4eWLfM5PhHxKZ8vhSF+asQIqFcPTp2Cl17ydTRSFKXt/5PF4l6u/j/t2pmuaSLiP5QAiW8EBcErr5jt6dPh8GHfxiNFTzb6/2j9LxH/pQRIfOeOO6BTJ9NXY9w4X0cjRYllpSZAWfT/sSx1gBbxZ0qAxHdsNnj1VfP8/vupK3aL5Nbvv8OJE6amMYvOPb/8AsePQ0gIaIyEiP9RAiS+1bw5PPig2R49OuPCqSI54er/07IlhIZmeoir9qdNmywPEZEiTAmQ+N7zz5thOFu3wkcf+ToaKQrU/0dErkIJkPhe1arw5JNm+6mn4PJl38Yjhd9V+v9Aag2QEiAR/6QESAqGMWOgShXTd+ONN3wdjRRmcXGwZ4/Z/mtS1fQOH4boaDMJuQcr74hIEaIESAqGYsXghRfM9vPPm/mBRHJi4sTU7datzWzj6biav1q2NF89EfE/SoCk4BgwwHSKjouDSZN8HY0URjExMHNm6mun0yy1EhPjdpiGv4uIEiApOAICzLB4gDffhH37fBuPFD5btmQcSehwmDHvaagDtIgoAZKCpVMn6NXL/NH6v//zdTRS2KxcmXGf3Q516qS8jI2FgwfN9FNXGCQmIkWcEiApeF5+2fRO/fxziIrydTRSWOzdCx9+aLYD/vrVZrfD3LlQrVrKYa7an2bNoHTpfI1QRAoQJUBS8NSrByNHmu1//tPUBolczdixps/P3XebYV7r1sGhQzB4sNthGv4uIqAESAqqCRPMf89/+AEWLfJ1NFLQbdoE//2vqfF58UVT43PzzW41Py6uGiB1gBbxb0qApGAqW9YkQQDjx8P5876NRwouy0qdSHPoUKhfP8tDT5+Gn34y2zfdlA+xiUiBpQRICq5HHoHatc2KlePHmyaNdMOZRVixwiykW6wYPPvsFQ/dtMk8N24M5crlQ2wiUmApAZKCKzjYdIgGeP116NzZzOybycR24qeSkmDcOLP9z39CpUpXPFzD30XERQmQFGw33OD+OouJ7cRPzZ9vxrSXL2+WU7kKdYAWERclQFKwpZvADjCjwl56CS5dyv94pOC4cCF1xvAJE6BEiSsefu4c7NpltpUAiYgSICnY6tZNndMlrVmzzOR2s2ZBQkL+xyW+9+qrcOKE6Sc2bNhVD9+82fSXrlPHrLsrIv5NCZAUbNWqwbx5ZngzmOcBA6BGDTh2DB591Mwb9J//mP4g4h9OnIBXXjHbL75o+otdhdb/EpG0lABJwTd4sJnQzjWx3eLF8PPPpvanShWIjjY1AA0amPeSk30dseS1yZPh4kXTR+zvf8/WKeoALSJpKQGSwiH9xHYhIWa26F9+gRkzoEIF+O03GDjQjHF+/33NIF1UHTxoagXBjBK02a56ysWL8N13Zls1QCICSoCksAsLg1GjTPLz8stmAsWff4Z+/eD66+Gjj0wNkeYQKjr+9S9Ty9ezp0mKs2HrVnNKjRpmJgURESVAUjQUK2ZWj//9d3j+ebOMxk8/meaRmjU1h1BRsW2bSWptNjMSMJs0/F1E0lMCJEVLiRLw9NMmERo1yv09p9MslTB/vobQF0Zpl7x48EFo2jTbp2r9LxFJTwmQFE2lS8Odd2bcb1kmCapQAfr2heXLIT4+38OTHPj8c5PJhIaaTtDZdPmyqTgC1QCJSColQFJ0ZTaHkM0GlSubSfQ++ADuvdfMIty7N3z4oektKwWPwwFjx5rtf/wDqlfP9qnbt5upoipVMl8JERFQAiRFWWZzCP3nP3D0qKkSGDMGIiJMDdCyZdCnj0mG7rnHJEeuFehjYtSJ2tcWLzZ9usqUSU2Esint8PdsDBgTET8R6OsARPLU4MHQvbsZLl+nTuow+tatzePll2HHDtOxdtkyM5psxQrzCAmBhg1h927TdBYQYBKqAQN8e0/+Jj7eLHUBpn9XmTIena4JEEUkM6oBkqIv/RxCadls0KqVGVH0yy/w/fdmmHXduqbdZNcuk/yA6UQ9bBgcPpyf0cvrr5tauxo14JFHPDo1KQm2bDHb6v8jImkpARJxsdmgeXN44QU4cMA0l6XndBIYGUnDt9+G/fvzP0Z/c+ZM6nD35583HaA98P33pgLpmmugUaM8iE9ECi0lQCKZsdng1lszXYjVdvo09ZYvJ+i660wz2qxZ5g+1eN8LL5hl3K+/Hu6/3+PT087/k9mauiLiv/QrQSQrmXWinjOH5PffJ/aGG7Dsdvj2W7Mga+XKcPfd8MknkJjo27iLikOHTHIJMHVqjjIYrf8lIllRJ2iRK8mkE7WVlMT2sDB6tmpF0LJlsGQJ7NwJK1eaR7lyZo6hBx808w398ovpU5RZHyTJXEwMDBlikskuXaBbN48v4XDApk1mWx2gRSQ91QCJXE1WnagrVDCzTX//PezZY4bVV6oEp0/DG2+YztU1aqQuwzF/vi+iL3wWLDDl9dVX5nVkZI7Gr+/ZA3FxZnLw66/3cowiUugpARLxhqZN4ZVX4MgRWLUq4yzUrmU47rkH3nkHjh/3TZwFXUyMGWnndKbumzIlR3Mwufr/3HhjaiumiIiLmsBEvCkwEHr0MKOVPv004/uuOYbAVEt062YeN97o8QinIumrr9yTHzBtWb/84nETotb/EpEr8XkN0OzZs6lVqxahoaG0bNmSTa5G+0x8/fXXtG/fnrJlyxIWFkaDBg2YMWNGhuOWL19Oo0aNCAkJoVGjRqxcuTIvb0Eko8yW4QgIgJEjoUUL83r3blNr1LWrmdzv1lth+nT48cfUuYf8ZRZqy4K5c2HEiIzv2e2m/5WHl1MHaBG5Ep8mQEuXLmXUqFE8/fTT7Ny5k5tuuokePXoQHR2d6fHFihXj0UcfZePGjezbt4/x48czfvx45s2bl3LM1q1b6dOnD/3792f37t3079+f3r17s821GqJIfshsBNm8eWZU044dcPIkvPceDBwIVaqYFTtXr4Z//tM0p1WtCu3bu/chWrDAp7eUZ06dgr/9zSQ/ly+b2bfTltvcuR7X/uzda2YmCA+Hli29H7KIFH4+bQKbPn06gwcPZsiQIQDMnDmT1atXM2fOHKZMmZLh+ObNm9O8efOU1xEREaxYsYJNmzYxbNiwlGt07dqVcePGATBu3Dg2bNjAzJkzef/99/PhrkT+ktUyHGDWHOvb1zwsy/zFXr0a1qwxnVdiY83DxdWHKCDA9CMqWTL/7ycvfPEFPPQQnDgBwcHw4ovwxBNw7Fjm5ZZNrtqfyEhzWRGR9HyWACUmJrJjxw7GplvYsFu3bmxxzV1/FTt37mTLli08//zzKfu2bt3KE0884XZc9+7dmTlzZpbXSUhIICEhIeV1XFwcAElJSSQlJWUrlqLMVQYqC8Oj8qhY0TzMCVkfV6+eeTz2GFy+TMDs2djTL/ppWTBoENbQoVitWmF16oTVuTNW27Y+6z+U4+/GpUsEjBuHffZsAKxGjUhevNj0i3I4sl9uWVi3zg4EcOONDpKSnFc93lv0s5JKZeFO5eEur8rDk+v5LAE6ffo0DoeDiq5fcn+pWLEix68yQqZatWqcOnWK5ORkJk6cmFKDBHD8+HGPrzllyhQmTZqUYf+6desIDw/Pzu34haioKF+HUKDkZXmElitHN5sNm6svEGAB8eXLU+zUKWzbtpkV7V96CUdwMGcaNuR006acuu46ztauDXY7oadPUzw2lguVK3O5XLk8ixU8K4uSv/1GyxkzKHnkCAC/3n47e/v3x3n0qFnzK5csC9as6Q6EEh+/g1WrYq96jrfpZyWVysKdysOdt8sjPj4+28f6fBSYLd38HpZlZdiX3qZNm7hw4QLffPMNY8eOpU6dOvTt2zfH1xw3bhyjR49OeR0XF0f16tXp1KkTZcuW9eR2iqSkpCSioqLo2rUrQUFBvg7H5/KrPBwOB/aRI7E5HFh2O47Zswl+6CGSDh/Gtm4dAWvXYlu/Hvvx41TYvZsKu3cDYJUqhRURgW3PHmyWhRUQgGPOHKyHHvJ6jB6VhdNJwMyZBEyYgC0xEatSJRzz51OjWzdqeDGmqVNtnDtnfrW9+uoN1Knj4KGHrKuc5R36WUmlsnCn8nCXV+XhasHJDp8lQOXKlcNut2eomTl58mSGGpz0atWqBUDTpk05ceIEEydOTEmAKlWq5PE1Q0JCCAkJybA/KChIX9Q0VB7u8rw8hg2Dnj3hl1+w1alDoKsvTJ065jF0qKnu2LfPDB//6itYvx7buXPY/kqGAGxOJ4HDh5vRZV27Qps2ZhJHL7pqWcTEmJmx1641r3v1wvaf/xBYvrxX44iJgQkTUl87nTZGjgykZ8/8nYhbPyupVBbuVB7uvF0enlzLZ6PAgoODadmyZYbqr6ioKNq1a5ft61iW5dZ/JzIyMsM116xZ49E1RQqMrGahdrHZzDLnjz0GH39sZqH+q19NBm+8YSZorFgRatWC++6DGTNgyxYz+iq93AzBT3vusmVw3XUm+QkPN6PhVq40HcG97ODB1BkEXFzTCImIpOXTJrDRo0fTv39/WrVqRWRkJPPmzSM6OpoRf80FMm7cOI4ePcqSJUsAmDVrFjVq1KBBgwaAmRdo2rRpPPbYYynXfPzxx+nQoQNTp06lV69efPLJJ3z55Zd8/fXX+X+DIvktMBDuuMMs0Jp2QsGAALj3XlMLtG+fWWj00CFYujT1vOuvh7ZtTQ1RdLSpSnE6zbnz5plRbdmxYEHqbM42W2pGcsMNZhbsevW8ecduAjP5jZaDaYRExA/4NAHq06cPZ86cYfLkycTGxtKkSRNWrVpFzZo1AYiNjXWbE8jpdDJu3Dh+//13AgMDqV27Ni+99BLDhw9POaZdu3Z88MEHjB8/nmeeeYbatWuzdOlS2rRpk+/3J+ITrjmIhg831R+uuXRcCcy5c2YVe1dH6m3bzLxEO3aYh2sFdhen0yxM+u9/mxqcwEDzsNux2+20OX0a+1tvQVCQWbz0v/9NPdeV/Dz2GLz6qjkmD33yifvrHE4jJCJ+wOedoEeOHMnIkSMzfW/RokVurx977DG32p6s3Hvvvdx7773eCE+kcLrSHESlSsEtt5gHmCTl8OHUZGjNGvjpp4zX3LUrw64AoFJ24rn77jxPfi5dgoULzfbChRARkeNphETED/g8ARKRPFKtWvb++ttsJluIiIA+fUy/nZo1Mzah/ec/ZsmO5GRTs5ScTHJCAj/s3EnTxo0JtCzTB2niRPeOOPnUBrVsGfzxhwm9f38tgCoiV6YESETcZdWENmhQhkOtpCSiy5WjSc+eqTU8VatmPDcfqmHmzDHPw4Yp+RGRq1MCJCIZXakJLS/PzaGdO+Gbb0wOlt2+2iLi35QAiUjmstuE5u1zc8BV+3P33akraIiIXIlPV4MXEcmtc+fg3XfN9sMP+zYWESk8lACJSKH29tsQH2/mg+zQwdfRiEhhoQRIRAoty0pt/nr4YTOgTUQkO5QAiUihtWkT7N1r5mfs39/X0YhIYaIESEQKLVftz/33m/kdRUSySwmQiBRKJ07A8uVmW52fRcRTSoBEpFB66y1ISjJrtzZv7utoRKSwUQIkIoWOwwFvvmm2VfsjIjmhBEhECp0vvoDoaLM0We/evo5GRAojJUAiUui4Oj8/9BCEhfk2FhEpnJQAiUih8vvvpgYIYMQI38YiIoWXEiARKVTmzTMTIHbtCnXr+joaESmslACJSKGRkAALFphtdX4WkdxQAiQihcaKFXDqFFStCnfc4etoRKQwUwIkIoWGq/Pz0KEQGOjbWESkcFMCJCKFwo8/mrW/7HYYMsTX0YhIYacESEQKBdfEh716mSYwEZHcUAIkIgXehQuwZInZVudnEfEGJUAiUuC9+y6cPw/16kHnzr6ORkSKAiVAIlKgWVZq5+cRIyBAv7VExAv0q0RECrRvvoHduyE0FB580NfRiEhRoQRIRAo0V+3PfffBNdf4NhYRKTqUAIlIgXXmDHz4odlW52cR8SYlQCJSYC1caJa/aNECbrjB19GISFGiBEhECiSnM3Xun4cfBpvNt/GISNGiBEhECqQvv4Rff4VSpaBvX19HIyJFjRIgESmQZs82zw8+CMWK+TYWESl6lACJSIGzfTt8+qnZHjHCt7GISNGkBEhECpQFC6BtWzMBIsCWLb6NR0SKJiVAIlJgxMTAsGGpyQ/A8OFmv4iINykBEpECY9MmM/orLYcDfvnFN/GISNGlBEhECoS9e+GJJzLut9uhTp38j0dEijYlQCLic9u3w003wYkTUKWKSXrAPM+dC9Wq+TY+ESl6An0dgIj4t6++gl694OJFaNMGVq2C+HjT7FWnjpIfEckbSoBExGdWrjSLnCYmwi23mNfFi5tFT5X4iEheUhOYiPjEwoVw770m+bn7bvjsM5P8iIjkB58nQLNnz6ZWrVqEhobSsmVLNm3alOWxK1asoGvXrpQvX56SJUsSGRnJ6tWr3Y5ZtGgRNpstw+Py5ct5fSsikk0zZsCgQWbE16BBsHQphIT4OioR8Sc+TYCWLl3KqFGjePrpp9m5cyc33XQTPXr0IDo6OtPjN27cSNeuXVm1ahU7duygU6dO3HHHHezcudPtuJIlSxIbG+v2CA0NzY9bEpErsCwYPx5Gjzavx4yB+fMhUI3xIpLPfPprZ/r06QwePJghQ4YAMHPmTFavXs2cOXOYMmVKhuNnzpzp9vrFF1/kk08+4b///S/NmzdP2W+z2ahUqVKexi4innE64bHHUtf4evFFGDtWq7yLiG/4LAFKTExkx44djB071m1/t27d2JLNue+dTifnz5/nmmuucdt/4cIFatasicPhoFmzZjz33HNuCVJ6CQkJJCQkpLyOi4sDICkpiaSkpOzeUpHlKgOVhaHySJXdskhKgkGD7CxdGoDNZvHGG06GDXOSnJwfUeYffTdSqSzcqTzc5VV5eHI9nyVAp0+fxuFwULFiRbf9FStW5Pjx49m6xquvvsrFixfp3bt3yr4GDRqwaNEimjZtSlxcHK+99hrt27dn9+7d1K1bN9PrTJkyhUmTJmXYv27dOsLDwz24q6ItKirK1yEUKCqPVFcqi4QEOy+/3IodOyphtzt54okdVKt2jFWr8jHAfKbvRiqVhTuVhztvl0d8fHy2j7VZVtpVd/LPsWPHqFq1Klu2bCEyMjJl/wsvvMDbb7/N/v37r3j++++/z5AhQ/jkk0+45ZZbsjzO6XTSokULOnTowOuvv57pMZnVAFWvXp3Y2FjKli3r4Z0VPUlJSURFRdG1a1eCgoJ8HY7PqTxSXa0szp6Fu+6ys3lzAGFhFkuXOrj1Vp/8yskX+m6kUlm4U3m4y6vyiIuLo1y5cpw7d46SJUte8Vif1QCVK1cOu92eobbn5MmTGWqF0lu6dCmDBw9m2bJlV0x+AAICArjhhhs4ePBglseEhIQQkskQlKCgIH1R01B5uFN5pEpfFjExsG0bTJhglrgoVQo+/9xG+/b+0dtZ341UKgt3Kg933i4PT67ls1FgwcHBtGzZMkP1V1RUFO3atcvyvPfff5+BAwfy3nvvcdttt131cyzLYteuXVSuXDnXMYvI1c2cCTVqmDl+9u6FkiVhwwZo397XkYmIpPLpf8dGjx5N//79adWqFZGRkcybN4/o6GhGjBgBwLhx4zh69ChLliwBTPIzYMAAXnvtNdq2bZtSexQWFkapUqUAmDRpEm3btqVu3brExcXx+uuvs2vXLmbNmuWbmxQpwpKT4bffSjJ3bgDffgsbN8KhQ+7HXLgAakkWkYLGpwlQnz59OHPmDJMnTyY2NpYmTZqwatUqatasCUBsbKzbnEBz584lOTmZRx55hEceeSRl/4MPPsiiRYsAOHv2LMOGDeP48eOUKlWK5s2bs3HjRlq3bp2v9yZS2MXEwMGDULdu6rIUp0/DN9/A1q3msX17IBcvdrridZxOs66XlrYQkYLE5w3yI0eOZOTIkZm+50pqXNavX3/V682YMYMZM2Z4ITKRwi2zBCa7FiyAYcNM8mKzmUVKT582iYw7G2FhSbRrZ6dduwDq1oWBA815Lna7WdRURKQg8XkCJFKU5SYJyc35aROYgACYPh169oQ//nB/nDmTcd+JE+7NWJZlan1cGjSAyEjzaNUqid9/X8Udd/QkKMh0KUxMhOHDweEwyc/cuar9EZGCRwmQFHkFJQmZNw8GD3Y/JjkZLl2Cy5fdny9dguXL4dVXTQJis8EDD0Dz5nDxIsTHuz/S7jt7Fn78MfUznE4YNco8cuOll2DoULNSu0tSEqRfuWbwYOje3dQW1amj5EdECiYlQFIo5EUSkpxsaisSEswj7bbr9YoV7knIwIHQqlUA339/LT/9FEBSkkla0j/+/BPSrtPrdMKQIWZYeFJSarKT3ZmQLQvefts8ciosDCpUMAlM2bLmObNHcjL07p2xGev++92TnyupVk2Jj4gUbEqApMBLn8RMmwa33WZqOrJ6nDsHsbGwbl3qdVxJyKOPmuQm7R/47LAsWLgQFi60A01zdC/HjmX9XkgIhIaaRMWyTFNUel26wLXXQnh46qNYMfftixcz74fz88/ZT0rmzVMzlogUbUqA8llummN81ZQDcPp0KOvX22jY0LufbVlw/jwcP5754/ffIW3fd6fTrCTuWk08Jy5fzrjPZjMJSHCweQ4JMX/8Y2MzHtuunRO7/Ri1alUhPDyA0FAyPC5dgn/9y9yfS0AAfPIJRESkJjphYannBKSZlSsmBmrWzJjELFqUvfLPbT8cNWOJSFGnBCgfZadPSF6cm9vzFy60MWJENyzLluFcyzIJxcWLWT+++AIWL05tRmrWzPzBdyU5ly5l/z5cwsOhXDkoXdo8ypRJ3XY9nE4YMyZjErJ5s0kuXIlOcDAEBmZclTyrJOSddxzs2bODnj0rpnT8zUz58hmTkNtvz979VauWu1oYbyQwasYSkaJMCVA+iYlJTUAgtTlm0SKTDFzJ5cvw9depr13nLl6c+bnp/5BfvmwmqEt//sKFJgFwJQiWlfGRkADffmsHbG7njh1rrhsf71lTkmXBzp0Z95coAZUqZXwEB8OTT7onMXY7HDiQvT/OpUplTCLats1erFdKQvbsufr5uU1Ccnu+EhgRkawpAconBw9mniikTWw8tWlTzs8FUxOSPbYMe06fznhUSIjpg5L2kZSUebIwaRLccotJcipWNMdmpUwZ39WEZHZ+UlL2z89tEqIkRkQkbygByid165rml7RJUEAAzJhx9WUCzpwxQ5jTN+Vkdm7aY1z++CPz82fONM1INltqrZFr2/X44w8YPtzCsmxu537xhemMmzbZsdszfnZWzUiDBuVfEqMkRERE0lMClE+yak7Jbj+cYsVyfm5uz7csBw8/HIDTGZBybrdu2Ts3t31Z0l5HSYiIiHiLEqB8lJuaDF/2J3noIQu7PYqaNbvQoEFgvvdlERER8TYlQPksNzUZvmzKKVfuMh07WgQF5f9ni4iIeFvWY3hFREREiiglQCIiIuJ3lACJiIiI31ECJCIiIn5HCZCIiIj4HSVAIiIi4neUAImIiIjfUQIkIiIifkcJkIiIiPgdJUAiIiLid5QAiYiIiN/RWmCZsCwLgPPnzxOU08WvipCkpCTi4+OJi4tTeaDySEtl4U7lkUpl4U7l4S6vyiMuLg5I/Tt+JUqAMnHmzBkAatWq5eNIRERExFPnz5+nVKlSVzxGCVAmrrnmGgCio6OvWoD+IC4ujurVq3PkyBFKlizp63B8TuWRSmXhTuWRSmXhTuXhLq/Kw7Iszp8/T5UqVa56rBKgTAQEmK5RpUqV0hc1jZIlS6o80lB5pFJZuFN5pFJZuFN5uMuL8shuxYU6QYuIiIjfUQIkIiIifkcJUCZCQkJ49tlnCQkJ8XUoBYLKw53KI5XKwp3KI5XKwp3Kw11BKA+blZ2xYiIiIiJFiGqARERExO8oARIRERG/owRIRERE/I4SIBEREfE7SoBERETE7ygByqG77rqLMmXKcO+993r0XlE3Y8YMGjduTKNGjfjHP/6RrQXpirLAwECaNWtGs2bNGDJkiK/D8akjR45w880306hRI6677jqWLVvm65DylT//XshKfHw8NWvWZMyYMb4OxacOHDiQ8nuiWbNmhIWF8fHHH/s6rHyV1c/HZ599Rv369albty7z58/36mdqGHwOrVu3jgsXLrB48WI++uijbL9XlJ06dYq2bdvy008/ERQURIcOHZg2bRqRkZG+Ds1nypUrx+nTp30dRoEQGxvLiRMnaNasGSdPnqRFixYcOHCAYsWK+Tq0fOGvvxeu5Omnn+bgwYPUqFGDadOm+TqcAuHChQtERERw+PBhv/nZgMx/PpKTk2nUqBHr1q2jZMmStGjRgm3btqWs15lbqgHKoU6dOlGiRAmP3yvqkpOTuXz5MklJSSQlJVGhQgVfhyQFROXKlWnWrBkAFSpU4JprruGPP/7wbVD5yJ9/L2Tm4MGD7N+/n549e/o6lALl008/pUuXLn6V/EDmPx/bt2+ncePGVK1alRIlStCzZ09Wr17ttc8skgnQxo0bueOOO6hSpQo2my3TqsTZs2dTq1YtQkNDadmyJZs2bcr/QPNZXpdL+fLlGTNmDDVq1KBKlSrccsst1K5d24t34F358T2Ji4ujZcuW3HjjjWzYsMFLkeeN/Py5+e6773A6nVSvXj2XUecP/U5x543yGDNmDFOmTMmniPOWN78fH374IX369MnjiL0rr34+jh07RtWqVVNeV6tWjaNHj3ot7iKZAF28eJHrr7+ef//735m+v3TpUkaNGsXTTz/Nzp07uemmm+jRowfR0dEpx7Rs2ZImTZpkeBw7diy/bsPr8rpc/vzzTz777DMOHTrE0aNH2bJlCxs3bsyv2/NYfnxPDh06xI4dO3jzzTcZMGAAcXFx+XJvOZFfPzdnzpxhwIABzJs3L8/vyVu8UTZFSW7L45NPPqFevXrUq1cvP8POM976fsTFxbF58+ZCVyuWVz8fmfXQsdlsXonZ9QFFGmCtXLnSbV/r1q2tESNGuO1r0KCBNXbsWI+uvW7dOuuee+7x+L2CIC/K5cMPP7RGjhyZ8vrll1+2pk6dmutY80Nefk9cbr31Vuvbb7/NaYj5Kq/K4/Lly9ZNN91kLVmyxBth+kRuyqag/17IiZyUx9ixY61q1apZNWvWtMqWLWuVLFnSmjRpUn6FnKdy8/1YsmSJdf/99+d1iHnKmz8fmzdvtv72t7+lvP7HP/5hvfvuu16LtUjWAF1JYmIiO3bsoFu3bm77u3XrxpYtW3wUle95o1yqV6/Oli1buHz5Mg6Hg/Xr11O/fv28CDfPeaM8/vzzTxISEgCIiYlh7969XHvttV6PNT94ozwsy2LgwIF07tyZ/v3750WYPqHfKe6yUx5TpkzhyJEjHDp0iGnTpjF06FAmTJjgi3DznCffj8LY/HU1ufn5aN26NT/++CNHjx7l/PnzrFq1iu7du3sttkCvXamQOH36NA6Hg4oVK7rtr1ixIsePH8/2dbp3787333/PxYsXqVatGitXruSGG2646nsFlTfKpW3btvTs2ZPmzZsTEBBAly5duPPOO/Mi3DznjfLYt28fw4cPJyAgAJvNxmuvvea10Qv5zRvlsXnzZpYuXcp1112X0kfg7bffpmnTpt4ON19lt2wK4++FnPDW79iiIrvlce7cObZv387y5cvzO8Q8ldufj1dffZVOnTrhdDp58sknKVu2rNdi87sEyCV9O6JlWR61LV6pJ7o3e6nnt9yWywsvvMALL7zg7bB8Jjfl0a5dO3744Ye8CMtnclMeN954I06nMy/CKhCuVjaF+fdCTmT3uzJw4MB8isi3rlYepUqV4sSJE/kdVr7J6c/HnXfemWf/kfa7JrBy5cpht9sz/E/k5MmTGTJUf6JycafycKfyyJrKxp3Kw52/l0dBvn+/S4CCg4Np2bIlUVFRbvujoqJo166dj6LyPZWLO5WHO5VH1lQ27lQe7vy9PAry/RfJJrALFy7wyy+/pLz+/fff2bVrF9dccw01atRg9OjR9O/fn1atWhEZGcm8efOIjo5mxIgRPow676lc3Kk83Kk8sqaycafycOfv5VFo799r48kKkHXr1llAhseDDz6YcsysWbOsmjVrWsHBwVaLFi2sDRs2+C7gfKJycafycKfyyJrKxp3Kw52/l0dhvX+tBSYiIiJ+x+/6AImIiIgoARIRERG/owRIRERE/I4SIBEREfE7SoBERETE7ygBEhEREb+jBEhERET8jhIgERER8TtKgERERMTvKAESkQLl5ptvZtSoUQXyMyIiIpg5c6bX4xGR/KcESERERPyOEiARERHxO0qARKTAeuedd2jVqhUlSpSgUqVK9OvXj5MnT6a8v379emw2G6tXr6Z58+aEhYXRuXNnTp48yRdffEHDhg0pWbIkffv2JT4+3u3aycnJPProo5QuXZqyZcsyfvx40q4NffLkSe644w7CwsKoVasW7777bob4pk+fTtOmTSlWrBjVq1dn5MiRXLhwIe8KRES8RgmQiBRYiYmJPPfcc+zevZuPP/6Y33//nYEDB2Y4buLEifz73/9my5YtHDlyhN69ezNz5kzee+89Pv/8c6KionjjjTfczlm8eDGBgYFs27aN119/nRkzZjB//vyU9wcOHMihQ4dYu3YtH330EbNnz3ZLvgACAgJ4/fXX+fHHH1m8eDFr167lySefzJOyEBEvs0RECpCOHTtajz/+eKbvbd++3QKs8+fPW5ZlWevWrbMA68svv0w5ZsqUKRZg/frrryn7hg8fbnXv3t3tMxo2bGg5nc6UfU899ZTVsGFDy7Is68CBAxZgffPNNynv79u3zwKsGTNmZBn7hx9+aJUtW9aj+xUR31ANkIgUWDt37qRXr17UrFmTEiVKcPPNNwMQHR3tdtx1112Xsl2xYkXCw8O59tpr3falr71p27YtNpst5XVkZCQHDx7E4XCwb98+AgMDadWqVcr7DRo0oHTp0m7XWLduHV27dqVq1aqUKFGCAQMGcObMGS5evJjbWxeRPKYESEQKpIsXL9KtWzeKFy/OO++8w7fffsvKlSsB0zSWVlBQUMq2zWZze+3a53Q6s/3Z1l99gdImSOkdPnyYnj170qRJE5YvX86OHTuYNWsWAElJSdn+LBHxjUBfByAikpn9+/dz+vRpXnrpJapXrw7Ad99957Xrf/PNNxle161bF7vdTsOGDUlOTua7776jdevWABw4cICzZ8+mHP/dd9+RnJzMq6++SkCA+b/khx9+6LX4RCRvqQZIRAqkGjVqEBwczBtvvMFvv/3Gp59+ynPPPee16x85coTRo0dz4MAB3n//fd544w0ef/xxAOrXr8+tt97K0KFD2bZtGzt27GDIkCGEhYWlnF+7dm2Sk5NT4nv77bd58803vRafiOQtJUAiUiCVL1+eRYsWsWzZMho1asRLL73EtGnTvHb9AQMGcOnSJVq3bs0jjzzCY489xrBhw1LeX7hwIdWrV6djx47cfffdDBs2jAoVKqS836xZM6ZPn87UqVNp0qQJ7777LlOmTPFafCKSt2yWlWbiCxERERE/oBogERER8TtKgERERMTvKAESERERv6MESERERPyOEiARERHxO0qARERExO8oARIRERG/owRIRERE/I4SIBEREfE7SoBERETE7ygBEhEREb/z/8WF6BxA5bkdAAAAAElFTkSuQmCC",
      "text/plain": [
       "<Figure size 640x480 with 1 Axes>"
      ]
     },
     "metadata": {},
     "output_type": "display_data"
    }
   ],
   "source": [
    "best_lambda, best_rmse = cross_validation_demo(10, 4, np.logspace(-10, 10, 30))"
=======
   "execution_count": null,
   "metadata": {},
   "outputs": [],
   "source": [
    "best_lambda, best_rmse = cross_validation_demo(10, 4, np.logspace(-10, -2, 30))"
>>>>>>> origin
   ]
  },
  {
   "cell_type": "markdown",
<<<<<<< HEAD
=======
   "execution_count": null,
>>>>>>> origin
   "metadata": {},
   "source": [
    "In the previous task we did a grid search over several values of $\\lambda$ for a fixed degree. We can also perform a grid search amongst $\\lambda$ and degrees simultaneously:"
   ]
  },
  {
   "cell_type": "code",
<<<<<<< HEAD
   "execution_count": 22,
=======
   "execution_count": null,
>>>>>>> origin
   "metadata": {},
   "outputs": [],
   "source": [
    "def best_degree_selection(degrees, k_fold, lambdas, seed=1):\n",
    "    \"\"\"cross validation over regularisation parameter lambda and degree.\n",
    "\n",
    "    Args:\n",
    "        degrees: shape = (d,), where d is the number of degrees to test\n",
    "        k_fold: integer, the number of folds\n",
    "        lambdas: shape = (p, ) where p is the number of values of lambda to test\n",
    "    Returns:\n",
    "        best_degree : integer, value of the best degree\n",
    "        best_lambda : scalar, value of the best lambda\n",
    "        best_rmse : value of the rmse for the couple (best_degree, best_lambda)\n",
    "\n",
    "    >>> best_degree_selection(np.arange(2,11), 4, np.logspace(-4, 0, 30))\n",
    "    (7, 0.004520353656360241, 0.28957280566456634)\n",
    "    \"\"\"\n",
    "\n",
    "    # split data in k fold\n",
    "    k_indices = build_k_indices(y, k_fold, seed)\n",
<<<<<<< HEAD
    "    best_rmse = float('inf')\n",
=======
>>>>>>> origin
    "\n",
    "    # ***************************************************\n",
    "    # INSERT YOUR CODE HERE\n",
    "    # cross validation over degrees and lambdas: TODO\n",
<<<<<<< HEAD
    "    for lambda_ in lambdas :\n",
    "        for degree in degrees :\n",
    "            rmse_fold  = []\n",
    "            for k in range(k_fold):\n",
    "                loss_tr, loss_te = cross_validation(y, x, k_indices, k, lambda_, degree)\n",
    "                rmse_fold.append(loss_te)\n",
    "                \n",
    "            avg_loss = np.mean(rmse_fold)\n",
    "\n",
    "            if avg_loss < best_rmse:\n",
    "                best_rmse, best_degree, best_lambda = avg_loss, degree, lambda_\n",
    "\n",
    "    # ***************************************************\n",
=======
    "    # ***************************************************\n",
    "    raise NotImplementedError\n",
>>>>>>> origin
    "\n",
    "    return best_degree, best_lambda, best_rmse"
   ]
  },
  {
   "cell_type": "code",
<<<<<<< HEAD
   "execution_count": 23,
   "metadata": {},
   "outputs": [
    {
     "name": "stdout",
     "output_type": "stream",
     "text": [
      "❌ The are some issues with your implementation of `best_degree_selection`:\n",
      "**********************************************************************\n",
      "File \"__main__\", line 13, in best_degree_selection\n",
      "Failed example:\n",
      "    best_degree_selection(np.arange(2,11), 4, np.logspace(-4, 0, 30))\n",
      "Expected:\n",
      "    (7, 0.004520353656360241, 0.28957280566456634)\n",
      "Got:\n",
      "    (7, 0.004520353656360241, 0.2876550388547614)\n",
      "**********************************************************************\n",
      "The best rmse of 0.288 is obtained for a degree of 7 and a lambda of 0.00452.\n"
     ]
    }
   ],
=======
   "execution_count": null,
   "metadata": {},
   "outputs": [],
>>>>>>> origin
   "source": [
    "# can lead to a numerical error if you use an older version than Python 3.9\n",
    "test(best_degree_selection)\n",
    "\n",
    "best_degree, best_lambda, best_rmse = best_degree_selection(\n",
    "    np.arange(2, 11), 4, np.logspace(-4, 0, 30)\n",
    ")\n",
    "print(\n",
    "    \"The best rmse of %.3f is obtained for a degree of %.f and a lambda of %.5f.\"\n",
    "    % (best_rmse, best_degree, best_lambda)\n",
    ")"
   ]
  },
  {
   "cell_type": "markdown",
<<<<<<< HEAD
=======
   "execution_count": null,
>>>>>>> origin
   "metadata": {},
   "source": [
    "## Bias-Variance Decomposition"
   ]
  },
  {
   "cell_type": "code",
<<<<<<< HEAD
   "execution_count": 24,
=======
   "execution_count": null,
>>>>>>> origin
   "metadata": {},
   "outputs": [],
   "source": [
    "# true function we want to learn\n",
    "def f_star(x):\n",
    "    return x**3 - x**2 + 0.5\n",
    "\n",
    "\n",
    "# plotting function for f_star\n",
    "def plot_fstar(ax):\n",
    "    xvals = np.arange(-1, 1, 0.01)\n",
    "    ax.plot(xvals, f_star(xvals), linestyle=\"--\", color=\"k\", label=\"f_star\")\n",
    "    ax.set_ylim(-2, 2)"
   ]
  },
  {
   "cell_type": "code",
<<<<<<< HEAD
   "execution_count": 25,
=======
   "execution_count": null,
>>>>>>> origin
   "metadata": {},
   "outputs": [],
   "source": [
    "# helper plot function\n",
    "def plot_poly(x, y, weights, degree, ax, alpha=0.3):\n",
    "    xvals = np.arange(-1, 1, 0.01)\n",
    "    tx = build_poly(xvals, degree)\n",
    "    f = tx.dot(weights)\n",
    "    ax.plot(xvals, f, color=\"orange\", alpha=alpha)\n",
    "    ax.scatter(x, y, color=\"b\", alpha=alpha, s=10)\n",
    "    ax.set_xlabel(\"x\")\n",
    "    ax.set_ylabel(\"y\")\n",
    "    ax.set_title(\"Polynomial degree \" + str(degree))\n",
    "    ax.set_ylim(-1, 2)\n",
    "\n",
    "\n",
    "# helper plot function\n",
    "def plot_f(weights, degree, ax, label=None):\n",
    "    xvals = np.arange(-1, 1, 0.01)\n",
    "    tx = build_poly(xvals, degree)\n",
    "    f = tx.dot(weights)\n",
    "    ax.plot(xvals, f, color=\"black\", alpha=1, label=label)\n",
    "    ax.set_ylim(-1, 2)"
   ]
  },
  {
   "cell_type": "markdown",
<<<<<<< HEAD
=======
   "execution_count": null,
>>>>>>> origin
   "metadata": {},
   "source": [
    "Implement the following function: for 15 random datapoints, it finds the optimal fit (using the least square formula, with no regularisation λ) for a polynomial expansion of degree 1, 3 and 6."
   ]
  },
  {
   "cell_type": "code",
<<<<<<< HEAD
   "execution_count": 26,
   "metadata": {},
   "outputs": [
    {
     "ename": "ValueError",
     "evalue": "matmul: Input operand 1 does not have enough dimensions (has 0, gufunc core with signature (n?,k),(k,m?)->(n?,m?) requires 1)",
     "output_type": "error",
     "traceback": [
      "\u001b[0;31m---------------------------------------------------------------------------\u001b[0m",
      "\u001b[0;31mValueError\u001b[0m                                Traceback (most recent call last)",
      "Cell \u001b[0;32mIn[26], line 39\u001b[0m\n\u001b[1;32m     35\u001b[0m         axs[index_degree]\u001b[38;5;241m.\u001b[39mlegend()\n\u001b[1;32m     36\u001b[0m     plt\u001b[38;5;241m.\u001b[39mshow()\n\u001b[0;32m---> 39\u001b[0m bias_variance_one_seed(\u001b[38;5;241m0.1\u001b[39m, [\u001b[38;5;241m1\u001b[39m, \u001b[38;5;241m3\u001b[39m, \u001b[38;5;241m6\u001b[39m], seed\u001b[38;5;241m=\u001b[39m\u001b[38;5;241m2\u001b[39m)\n",
      "Cell \u001b[0;32mIn[26], line 31\u001b[0m, in \u001b[0;36mbias_variance_one_seed\u001b[0;34m(sigma, degrees, seed)\u001b[0m\n\u001b[1;32m     28\u001b[0m X_poly_plot \u001b[38;5;241m=\u001b[39m build_poly(xs_plot, degree)\n\u001b[1;32m     30\u001b[0m \u001b[38;5;66;03m# Predicted values using the fitted model\u001b[39;00m\n\u001b[0;32m---> 31\u001b[0m ys_fit \u001b[38;5;241m=\u001b[39m X_poly_plot \u001b[38;5;241m@\u001b[39m w\n\u001b[1;32m     32\u001b[0m \u001b[38;5;66;03m# ***************************************************\u001b[39;00m\n\u001b[1;32m     34\u001b[0m plot_fstar(axs[index_degree])\n",
      "\u001b[0;31mValueError\u001b[0m: matmul: Input operand 1 does not have enough dimensions (has 0, gufunc core with signature (n?,k),(k,m?)->(n?,m?) requires 1)"
     ]
    },
    {
     "data": {
      "image/png": "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",
      "text/plain": [
       "<Figure size 2000x500 with 3 Axes>"
      ]
     },
     "metadata": {},
     "output_type": "display_data"
    }
   ],
=======
   "execution_count": null,
   "metadata": {},
   "outputs": [],
>>>>>>> origin
   "source": [
    "from least_squares import least_squares\n",
    "\n",
    "\n",
    "def bias_variance_one_seed(sigma, degrees, seed):\n",
    "    \"\"\"One run of the optimal fit for 15 random points and different polynomial expansion degrees.\n",
    "\n",
    "    Args:\n",
    "        sigma: scalar, noise variance\n",
    "        degrees: shape = (3,), 3 different degrees to consider\n",
    "        seed: integer, random see\n",
    "    Returns:\n",
    "    \"\"\"\n",
    "\n",
    "    # we will generate 15 random datapoints from the [-1, 1] uniform distribuion\n",
    "    num_data = 15\n",
    "    np.random.seed(seed)  # set random seed for reproducibility\n",
    "    xs = np.random.uniform(-1, 1, num_data)\n",
    "    # the outputs will be f_star(x) + some random gaussian noise of variance sigma**2\n",
    "    ys = f_star(xs) + sigma * np.random.randn(num_data)\n",
    "\n",
    "    fig, axs = plt.subplots(1, len(degrees), figsize=(20, 5))\n",
    "    for index_degree, degree in enumerate(degrees):\n",
<<<<<<< HEAD
    "        # ******************************\n",
    "        xs = build_poly(xs,degree)\n",
    "        w,mse = least_squares(ys,xs)\n",
    "\n",
    "        xs_plot = np.linspace(-1, 1, 100)\n",
    "        X_poly_plot = build_poly(xs_plot, degree)\n",
    "        \n",
    "        # Predicted values using the fitted model\n",
    "        ys_fit = X_poly_plot @ w\n",
=======
    "        # ***************************************************\n",
    "        # INSERT YOUR CODE HERE\n",
>>>>>>> origin
    "        # ***************************************************\n",
    "\n",
    "        plot_fstar(axs[index_degree])\n",
    "        axs[index_degree].legend()\n",
    "    plt.show()\n",
    "\n",
    "\n",
    "bias_variance_one_seed(0.1, [1, 3, 6], seed=2)"
   ]
  },
  {
   "cell_type": "markdown",
<<<<<<< HEAD
=======
   "execution_count": null,
>>>>>>> origin
   "metadata": {},
   "source": [
    "Your output should ressemble (for seed = 2) to this: \n",
    "![alt text](bias_variance_one_run.png)"
   ]
  },
  {
   "cell_type": "markdown",
<<<<<<< HEAD
=======
   "execution_count": null,
>>>>>>> origin
   "metadata": {},
   "source": [
    "Now to illustrate the bias variance tradeoff we will repeat many times the previous experiment but using a different random seed each time. We also plot (in plain black) the mean of all the orange functions obtained."
   ]
  },
  {
   "cell_type": "code",
   "execution_count": null,
   "metadata": {},
   "outputs": [],
   "source": [
    "def bias_variance_demo(sigma, degrees):\n",
    "    \"\"\"Illustration of the bias-variance tradeoff.\n",
    "\n",
    "    Args:\n",
    "        sigma: scalar, noise variance\n",
    "        degrees: shape = (3,), 3 different degrees to consider\n",
    "    Returns:\n",
    "    \"\"\"\n",
    "    # define parameters\n",
    "    seeds = range(400)  # number of runs\n",
    "    num_data = 15\n",
    "\n",
    "    fig, axs = plt.subplots(1, len(degrees), figsize=(20, 5))\n",
    "    for index_degree, degree in enumerate(degrees):\n",
    "        # ***************************************************\n",
    "        # INSERT YOUR CODE HERE\n",
    "        # ***************************************************\n",
    "\n",
    "        plot_fstar(axs[index_degree])\n",
    "        axs[index_degree].legend()\n",
    "    plt.show()\n",
    "\n",
    "\n",
    "bias_variance_demo(0.1, [1, 3, 6])"
   ]
  },
  {
   "cell_type": "markdown",
<<<<<<< HEAD
=======
   "execution_count": null,
>>>>>>> origin
   "metadata": {},
   "source": [
    "Your output should ressemble to this: \n",
    "![alt text](bias_variance.png)"
   ]
  }
 ],
 "metadata": {
  "kernelspec": {
<<<<<<< HEAD
   "display_name": "Python 3.9.13 ('base')",
=======
   "display_name": "Python 3 (ipykernel)",
>>>>>>> origin
   "language": "python",
   "name": "python3"
  },
  "language_info": {
   "codemirror_mode": {
    "name": "ipython",
    "version": 3
   },
   "file_extension": ".py",
   "mimetype": "text/x-python",
   "name": "python",
   "nbconvert_exporter": "python",
   "pygments_lexer": "ipython3",
<<<<<<< HEAD
   "version": "3.11.5"
  },
  "vscode": {
   "interpreter": {
    "hash": "365f77e409f1702921ebe0366eb00efc375f20dc8026da2eba9b2f7ebb727c11"
   }
=======
   "version": "3.10.9"
>>>>>>> origin
  }
 },
 "nbformat": 4,
 "nbformat_minor": 4
}
